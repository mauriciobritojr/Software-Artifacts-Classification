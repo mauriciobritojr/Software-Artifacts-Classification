{
  "nbformat": 4,
  "nbformat_minor": 0,
  "metadata": {
    "accelerator": "GPU",
    "colab": {
      "name": "textClassification_ncv_Fine_Tunning_Bert_long.OverSampling.ipynb",
      "provenance": [],
      "collapsed_sections": []
    },
    "kernelspec": {
      "display_name": "Python 3",
      "language": "python",
      "name": "python3"
    },
    "language_info": {
      "codemirror_mode": {
        "name": "ipython",
        "version": 3
      },
      "file_extension": ".py",
      "mimetype": "text/x-python",
      "name": "python",
      "nbconvert_exporter": "python",
      "pygments_lexer": "ipython3",
      "version": "3.8.5"
    },
    "widgets": {
      "application/vnd.jupyter.widget-state+json": {
        "fec53342d910456cbbbafeba790388d7": {
          "model_module": "@jupyter-widgets/controls",
          "model_name": "HBoxModel",
          "state": {
            "_view_name": "HBoxView",
            "_dom_classes": [],
            "_model_name": "HBoxModel",
            "_view_module": "@jupyter-widgets/controls",
            "_model_module_version": "1.5.0",
            "_view_count": null,
            "_view_module_version": "1.5.0",
            "box_style": "",
            "layout": "IPY_MODEL_40f95e1081914c899af2589ec07ef2b2",
            "_model_module": "@jupyter-widgets/controls",
            "children": [
              "IPY_MODEL_504a0692c82445ff8a03391a1982e9c1",
              "IPY_MODEL_e70e47da86e94e478bf3c31a0ce6f6a3"
            ]
          }
        },
        "40f95e1081914c899af2589ec07ef2b2": {
          "model_module": "@jupyter-widgets/base",
          "model_name": "LayoutModel",
          "state": {
            "_view_name": "LayoutView",
            "grid_template_rows": null,
            "right": null,
            "justify_content": null,
            "_view_module": "@jupyter-widgets/base",
            "overflow": null,
            "_model_module_version": "1.2.0",
            "_view_count": null,
            "flex_flow": null,
            "width": null,
            "min_width": null,
            "border": null,
            "align_items": null,
            "bottom": null,
            "_model_module": "@jupyter-widgets/base",
            "top": null,
            "grid_column": null,
            "overflow_y": null,
            "overflow_x": null,
            "grid_auto_flow": null,
            "grid_area": null,
            "grid_template_columns": null,
            "flex": null,
            "_model_name": "LayoutModel",
            "justify_items": null,
            "grid_row": null,
            "max_height": null,
            "align_content": null,
            "visibility": null,
            "align_self": null,
            "height": null,
            "min_height": null,
            "padding": null,
            "grid_auto_rows": null,
            "grid_gap": null,
            "max_width": null,
            "order": null,
            "_view_module_version": "1.2.0",
            "grid_template_areas": null,
            "object_position": null,
            "object_fit": null,
            "grid_auto_columns": null,
            "margin": null,
            "display": null,
            "left": null
          }
        },
        "504a0692c82445ff8a03391a1982e9c1": {
          "model_module": "@jupyter-widgets/controls",
          "model_name": "FloatProgressModel",
          "state": {
            "_view_name": "ProgressView",
            "style": "IPY_MODEL_e10519f155c04e11a72f353affe666df",
            "_dom_classes": [],
            "description": "Downloading: 100%",
            "_model_name": "FloatProgressModel",
            "bar_style": "success",
            "max": 231508,
            "_view_module": "@jupyter-widgets/controls",
            "_model_module_version": "1.5.0",
            "value": 231508,
            "_view_count": null,
            "_view_module_version": "1.5.0",
            "orientation": "horizontal",
            "min": 0,
            "description_tooltip": null,
            "_model_module": "@jupyter-widgets/controls",
            "layout": "IPY_MODEL_5911c58631b04366ae7bc8c9e1ab25ee"
          }
        },
        "e70e47da86e94e478bf3c31a0ce6f6a3": {
          "model_module": "@jupyter-widgets/controls",
          "model_name": "HTMLModel",
          "state": {
            "_view_name": "HTMLView",
            "style": "IPY_MODEL_a21f61f2bab242b0b82c5981609732ee",
            "_dom_classes": [],
            "description": "",
            "_model_name": "HTMLModel",
            "placeholder": "​",
            "_view_module": "@jupyter-widgets/controls",
            "_model_module_version": "1.5.0",
            "value": " 232k/232k [00:00&lt;00:00, 1.79MB/s]",
            "_view_count": null,
            "_view_module_version": "1.5.0",
            "description_tooltip": null,
            "_model_module": "@jupyter-widgets/controls",
            "layout": "IPY_MODEL_c151ede785d64ae99f1957f10989eb9e"
          }
        },
        "e10519f155c04e11a72f353affe666df": {
          "model_module": "@jupyter-widgets/controls",
          "model_name": "ProgressStyleModel",
          "state": {
            "_view_name": "StyleView",
            "_model_name": "ProgressStyleModel",
            "description_width": "initial",
            "_view_module": "@jupyter-widgets/base",
            "_model_module_version": "1.5.0",
            "_view_count": null,
            "_view_module_version": "1.2.0",
            "bar_color": null,
            "_model_module": "@jupyter-widgets/controls"
          }
        },
        "5911c58631b04366ae7bc8c9e1ab25ee": {
          "model_module": "@jupyter-widgets/base",
          "model_name": "LayoutModel",
          "state": {
            "_view_name": "LayoutView",
            "grid_template_rows": null,
            "right": null,
            "justify_content": null,
            "_view_module": "@jupyter-widgets/base",
            "overflow": null,
            "_model_module_version": "1.2.0",
            "_view_count": null,
            "flex_flow": null,
            "width": null,
            "min_width": null,
            "border": null,
            "align_items": null,
            "bottom": null,
            "_model_module": "@jupyter-widgets/base",
            "top": null,
            "grid_column": null,
            "overflow_y": null,
            "overflow_x": null,
            "grid_auto_flow": null,
            "grid_area": null,
            "grid_template_columns": null,
            "flex": null,
            "_model_name": "LayoutModel",
            "justify_items": null,
            "grid_row": null,
            "max_height": null,
            "align_content": null,
            "visibility": null,
            "align_self": null,
            "height": null,
            "min_height": null,
            "padding": null,
            "grid_auto_rows": null,
            "grid_gap": null,
            "max_width": null,
            "order": null,
            "_view_module_version": "1.2.0",
            "grid_template_areas": null,
            "object_position": null,
            "object_fit": null,
            "grid_auto_columns": null,
            "margin": null,
            "display": null,
            "left": null
          }
        },
        "a21f61f2bab242b0b82c5981609732ee": {
          "model_module": "@jupyter-widgets/controls",
          "model_name": "DescriptionStyleModel",
          "state": {
            "_view_name": "StyleView",
            "_model_name": "DescriptionStyleModel",
            "description_width": "",
            "_view_module": "@jupyter-widgets/base",
            "_model_module_version": "1.5.0",
            "_view_count": null,
            "_view_module_version": "1.2.0",
            "_model_module": "@jupyter-widgets/controls"
          }
        },
        "c151ede785d64ae99f1957f10989eb9e": {
          "model_module": "@jupyter-widgets/base",
          "model_name": "LayoutModel",
          "state": {
            "_view_name": "LayoutView",
            "grid_template_rows": null,
            "right": null,
            "justify_content": null,
            "_view_module": "@jupyter-widgets/base",
            "overflow": null,
            "_model_module_version": "1.2.0",
            "_view_count": null,
            "flex_flow": null,
            "width": null,
            "min_width": null,
            "border": null,
            "align_items": null,
            "bottom": null,
            "_model_module": "@jupyter-widgets/base",
            "top": null,
            "grid_column": null,
            "overflow_y": null,
            "overflow_x": null,
            "grid_auto_flow": null,
            "grid_area": null,
            "grid_template_columns": null,
            "flex": null,
            "_model_name": "LayoutModel",
            "justify_items": null,
            "grid_row": null,
            "max_height": null,
            "align_content": null,
            "visibility": null,
            "align_self": null,
            "height": null,
            "min_height": null,
            "padding": null,
            "grid_auto_rows": null,
            "grid_gap": null,
            "max_width": null,
            "order": null,
            "_view_module_version": "1.2.0",
            "grid_template_areas": null,
            "object_position": null,
            "object_fit": null,
            "grid_auto_columns": null,
            "margin": null,
            "display": null,
            "left": null
          }
        },
        "477635de0dbc4fe9876a42f3dfe819d7": {
          "model_module": "@jupyter-widgets/controls",
          "model_name": "HBoxModel",
          "state": {
            "_view_name": "HBoxView",
            "_dom_classes": [],
            "_model_name": "HBoxModel",
            "_view_module": "@jupyter-widgets/controls",
            "_model_module_version": "1.5.0",
            "_view_count": null,
            "_view_module_version": "1.5.0",
            "box_style": "",
            "layout": "IPY_MODEL_ae078a67836d4998b3af28757b35dc5c",
            "_model_module": "@jupyter-widgets/controls",
            "children": [
              "IPY_MODEL_fae1d31c69eb4157939fca0c3614ed51",
              "IPY_MODEL_1ebeaaca797a47a5ab308d7c02f976b8"
            ]
          }
        },
        "ae078a67836d4998b3af28757b35dc5c": {
          "model_module": "@jupyter-widgets/base",
          "model_name": "LayoutModel",
          "state": {
            "_view_name": "LayoutView",
            "grid_template_rows": null,
            "right": null,
            "justify_content": null,
            "_view_module": "@jupyter-widgets/base",
            "overflow": null,
            "_model_module_version": "1.2.0",
            "_view_count": null,
            "flex_flow": null,
            "width": null,
            "min_width": null,
            "border": null,
            "align_items": null,
            "bottom": null,
            "_model_module": "@jupyter-widgets/base",
            "top": null,
            "grid_column": null,
            "overflow_y": null,
            "overflow_x": null,
            "grid_auto_flow": null,
            "grid_area": null,
            "grid_template_columns": null,
            "flex": null,
            "_model_name": "LayoutModel",
            "justify_items": null,
            "grid_row": null,
            "max_height": null,
            "align_content": null,
            "visibility": null,
            "align_self": null,
            "height": null,
            "min_height": null,
            "padding": null,
            "grid_auto_rows": null,
            "grid_gap": null,
            "max_width": null,
            "order": null,
            "_view_module_version": "1.2.0",
            "grid_template_areas": null,
            "object_position": null,
            "object_fit": null,
            "grid_auto_columns": null,
            "margin": null,
            "display": null,
            "left": null
          }
        },
        "fae1d31c69eb4157939fca0c3614ed51": {
          "model_module": "@jupyter-widgets/controls",
          "model_name": "FloatProgressModel",
          "state": {
            "_view_name": "ProgressView",
            "style": "IPY_MODEL_87a55a27a6464fb6adb9b37403a50351",
            "_dom_classes": [],
            "description": "Downloading: 100%",
            "_model_name": "FloatProgressModel",
            "bar_style": "success",
            "max": 466062,
            "_view_module": "@jupyter-widgets/controls",
            "_model_module_version": "1.5.0",
            "value": 466062,
            "_view_count": null,
            "_view_module_version": "1.5.0",
            "orientation": "horizontal",
            "min": 0,
            "description_tooltip": null,
            "_model_module": "@jupyter-widgets/controls",
            "layout": "IPY_MODEL_c06636609cd240ff8ad5978fb310d81a"
          }
        },
        "1ebeaaca797a47a5ab308d7c02f976b8": {
          "model_module": "@jupyter-widgets/controls",
          "model_name": "HTMLModel",
          "state": {
            "_view_name": "HTMLView",
            "style": "IPY_MODEL_a8424578fabe465a94acabfb0805bf1b",
            "_dom_classes": [],
            "description": "",
            "_model_name": "HTMLModel",
            "placeholder": "​",
            "_view_module": "@jupyter-widgets/controls",
            "_model_module_version": "1.5.0",
            "value": " 466k/466k [00:13&lt;00:00, 34.5kB/s]",
            "_view_count": null,
            "_view_module_version": "1.5.0",
            "description_tooltip": null,
            "_model_module": "@jupyter-widgets/controls",
            "layout": "IPY_MODEL_c47d00d3476342a792881c6093921d72"
          }
        },
        "87a55a27a6464fb6adb9b37403a50351": {
          "model_module": "@jupyter-widgets/controls",
          "model_name": "ProgressStyleModel",
          "state": {
            "_view_name": "StyleView",
            "_model_name": "ProgressStyleModel",
            "description_width": "initial",
            "_view_module": "@jupyter-widgets/base",
            "_model_module_version": "1.5.0",
            "_view_count": null,
            "_view_module_version": "1.2.0",
            "bar_color": null,
            "_model_module": "@jupyter-widgets/controls"
          }
        },
        "c06636609cd240ff8ad5978fb310d81a": {
          "model_module": "@jupyter-widgets/base",
          "model_name": "LayoutModel",
          "state": {
            "_view_name": "LayoutView",
            "grid_template_rows": null,
            "right": null,
            "justify_content": null,
            "_view_module": "@jupyter-widgets/base",
            "overflow": null,
            "_model_module_version": "1.2.0",
            "_view_count": null,
            "flex_flow": null,
            "width": null,
            "min_width": null,
            "border": null,
            "align_items": null,
            "bottom": null,
            "_model_module": "@jupyter-widgets/base",
            "top": null,
            "grid_column": null,
            "overflow_y": null,
            "overflow_x": null,
            "grid_auto_flow": null,
            "grid_area": null,
            "grid_template_columns": null,
            "flex": null,
            "_model_name": "LayoutModel",
            "justify_items": null,
            "grid_row": null,
            "max_height": null,
            "align_content": null,
            "visibility": null,
            "align_self": null,
            "height": null,
            "min_height": null,
            "padding": null,
            "grid_auto_rows": null,
            "grid_gap": null,
            "max_width": null,
            "order": null,
            "_view_module_version": "1.2.0",
            "grid_template_areas": null,
            "object_position": null,
            "object_fit": null,
            "grid_auto_columns": null,
            "margin": null,
            "display": null,
            "left": null
          }
        },
        "a8424578fabe465a94acabfb0805bf1b": {
          "model_module": "@jupyter-widgets/controls",
          "model_name": "DescriptionStyleModel",
          "state": {
            "_view_name": "StyleView",
            "_model_name": "DescriptionStyleModel",
            "description_width": "",
            "_view_module": "@jupyter-widgets/base",
            "_model_module_version": "1.5.0",
            "_view_count": null,
            "_view_module_version": "1.2.0",
            "_model_module": "@jupyter-widgets/controls"
          }
        },
        "c47d00d3476342a792881c6093921d72": {
          "model_module": "@jupyter-widgets/base",
          "model_name": "LayoutModel",
          "state": {
            "_view_name": "LayoutView",
            "grid_template_rows": null,
            "right": null,
            "justify_content": null,
            "_view_module": "@jupyter-widgets/base",
            "overflow": null,
            "_model_module_version": "1.2.0",
            "_view_count": null,
            "flex_flow": null,
            "width": null,
            "min_width": null,
            "border": null,
            "align_items": null,
            "bottom": null,
            "_model_module": "@jupyter-widgets/base",
            "top": null,
            "grid_column": null,
            "overflow_y": null,
            "overflow_x": null,
            "grid_auto_flow": null,
            "grid_area": null,
            "grid_template_columns": null,
            "flex": null,
            "_model_name": "LayoutModel",
            "justify_items": null,
            "grid_row": null,
            "max_height": null,
            "align_content": null,
            "visibility": null,
            "align_self": null,
            "height": null,
            "min_height": null,
            "padding": null,
            "grid_auto_rows": null,
            "grid_gap": null,
            "max_width": null,
            "order": null,
            "_view_module_version": "1.2.0",
            "grid_template_areas": null,
            "object_position": null,
            "object_fit": null,
            "grid_auto_columns": null,
            "margin": null,
            "display": null,
            "left": null
          }
        },
        "f9e684fbb59349f59339f0d829f2ec24": {
          "model_module": "@jupyter-widgets/controls",
          "model_name": "HBoxModel",
          "state": {
            "_view_name": "HBoxView",
            "_dom_classes": [],
            "_model_name": "HBoxModel",
            "_view_module": "@jupyter-widgets/controls",
            "_model_module_version": "1.5.0",
            "_view_count": null,
            "_view_module_version": "1.5.0",
            "box_style": "",
            "layout": "IPY_MODEL_d3a54fd8c2d043e8a2561fe4f7cfe2e3",
            "_model_module": "@jupyter-widgets/controls",
            "children": [
              "IPY_MODEL_fda06719ecc4416f994ed0bd8fda719f",
              "IPY_MODEL_f0edbe0319bc455b922dc4128941f781"
            ]
          }
        },
        "d3a54fd8c2d043e8a2561fe4f7cfe2e3": {
          "model_module": "@jupyter-widgets/base",
          "model_name": "LayoutModel",
          "state": {
            "_view_name": "LayoutView",
            "grid_template_rows": null,
            "right": null,
            "justify_content": null,
            "_view_module": "@jupyter-widgets/base",
            "overflow": null,
            "_model_module_version": "1.2.0",
            "_view_count": null,
            "flex_flow": null,
            "width": null,
            "min_width": null,
            "border": null,
            "align_items": null,
            "bottom": null,
            "_model_module": "@jupyter-widgets/base",
            "top": null,
            "grid_column": null,
            "overflow_y": null,
            "overflow_x": null,
            "grid_auto_flow": null,
            "grid_area": null,
            "grid_template_columns": null,
            "flex": null,
            "_model_name": "LayoutModel",
            "justify_items": null,
            "grid_row": null,
            "max_height": null,
            "align_content": null,
            "visibility": null,
            "align_self": null,
            "height": null,
            "min_height": null,
            "padding": null,
            "grid_auto_rows": null,
            "grid_gap": null,
            "max_width": null,
            "order": null,
            "_view_module_version": "1.2.0",
            "grid_template_areas": null,
            "object_position": null,
            "object_fit": null,
            "grid_auto_columns": null,
            "margin": null,
            "display": null,
            "left": null
          }
        },
        "fda06719ecc4416f994ed0bd8fda719f": {
          "model_module": "@jupyter-widgets/controls",
          "model_name": "FloatProgressModel",
          "state": {
            "_view_name": "ProgressView",
            "style": "IPY_MODEL_f747263d5a3d4f1fadee6e53583549d4",
            "_dom_classes": [],
            "description": "Downloading: 100%",
            "_model_name": "FloatProgressModel",
            "bar_style": "success",
            "max": 28,
            "_view_module": "@jupyter-widgets/controls",
            "_model_module_version": "1.5.0",
            "value": 28,
            "_view_count": null,
            "_view_module_version": "1.5.0",
            "orientation": "horizontal",
            "min": 0,
            "description_tooltip": null,
            "_model_module": "@jupyter-widgets/controls",
            "layout": "IPY_MODEL_7943c102619b4d8a8a8be53875535989"
          }
        },
        "f0edbe0319bc455b922dc4128941f781": {
          "model_module": "@jupyter-widgets/controls",
          "model_name": "HTMLModel",
          "state": {
            "_view_name": "HTMLView",
            "style": "IPY_MODEL_f647de01068f4d88a71dd5aca0569c7e",
            "_dom_classes": [],
            "description": "",
            "_model_name": "HTMLModel",
            "placeholder": "​",
            "_view_module": "@jupyter-widgets/controls",
            "_model_module_version": "1.5.0",
            "value": " 28.0/28.0 [00:00&lt;00:00, 296B/s]",
            "_view_count": null,
            "_view_module_version": "1.5.0",
            "description_tooltip": null,
            "_model_module": "@jupyter-widgets/controls",
            "layout": "IPY_MODEL_23c2378ff54b4e75a256e245526548dc"
          }
        },
        "f747263d5a3d4f1fadee6e53583549d4": {
          "model_module": "@jupyter-widgets/controls",
          "model_name": "ProgressStyleModel",
          "state": {
            "_view_name": "StyleView",
            "_model_name": "ProgressStyleModel",
            "description_width": "initial",
            "_view_module": "@jupyter-widgets/base",
            "_model_module_version": "1.5.0",
            "_view_count": null,
            "_view_module_version": "1.2.0",
            "bar_color": null,
            "_model_module": "@jupyter-widgets/controls"
          }
        },
        "7943c102619b4d8a8a8be53875535989": {
          "model_module": "@jupyter-widgets/base",
          "model_name": "LayoutModel",
          "state": {
            "_view_name": "LayoutView",
            "grid_template_rows": null,
            "right": null,
            "justify_content": null,
            "_view_module": "@jupyter-widgets/base",
            "overflow": null,
            "_model_module_version": "1.2.0",
            "_view_count": null,
            "flex_flow": null,
            "width": null,
            "min_width": null,
            "border": null,
            "align_items": null,
            "bottom": null,
            "_model_module": "@jupyter-widgets/base",
            "top": null,
            "grid_column": null,
            "overflow_y": null,
            "overflow_x": null,
            "grid_auto_flow": null,
            "grid_area": null,
            "grid_template_columns": null,
            "flex": null,
            "_model_name": "LayoutModel",
            "justify_items": null,
            "grid_row": null,
            "max_height": null,
            "align_content": null,
            "visibility": null,
            "align_self": null,
            "height": null,
            "min_height": null,
            "padding": null,
            "grid_auto_rows": null,
            "grid_gap": null,
            "max_width": null,
            "order": null,
            "_view_module_version": "1.2.0",
            "grid_template_areas": null,
            "object_position": null,
            "object_fit": null,
            "grid_auto_columns": null,
            "margin": null,
            "display": null,
            "left": null
          }
        },
        "f647de01068f4d88a71dd5aca0569c7e": {
          "model_module": "@jupyter-widgets/controls",
          "model_name": "DescriptionStyleModel",
          "state": {
            "_view_name": "StyleView",
            "_model_name": "DescriptionStyleModel",
            "description_width": "",
            "_view_module": "@jupyter-widgets/base",
            "_model_module_version": "1.5.0",
            "_view_count": null,
            "_view_module_version": "1.2.0",
            "_model_module": "@jupyter-widgets/controls"
          }
        },
        "23c2378ff54b4e75a256e245526548dc": {
          "model_module": "@jupyter-widgets/base",
          "model_name": "LayoutModel",
          "state": {
            "_view_name": "LayoutView",
            "grid_template_rows": null,
            "right": null,
            "justify_content": null,
            "_view_module": "@jupyter-widgets/base",
            "overflow": null,
            "_model_module_version": "1.2.0",
            "_view_count": null,
            "flex_flow": null,
            "width": null,
            "min_width": null,
            "border": null,
            "align_items": null,
            "bottom": null,
            "_model_module": "@jupyter-widgets/base",
            "top": null,
            "grid_column": null,
            "overflow_y": null,
            "overflow_x": null,
            "grid_auto_flow": null,
            "grid_area": null,
            "grid_template_columns": null,
            "flex": null,
            "_model_name": "LayoutModel",
            "justify_items": null,
            "grid_row": null,
            "max_height": null,
            "align_content": null,
            "visibility": null,
            "align_self": null,
            "height": null,
            "min_height": null,
            "padding": null,
            "grid_auto_rows": null,
            "grid_gap": null,
            "max_width": null,
            "order": null,
            "_view_module_version": "1.2.0",
            "grid_template_areas": null,
            "object_position": null,
            "object_fit": null,
            "grid_auto_columns": null,
            "margin": null,
            "display": null,
            "left": null
          }
        },
        "3e6d25dee45443918044e82602b37ee9": {
          "model_module": "@jupyter-widgets/controls",
          "model_name": "HBoxModel",
          "state": {
            "_view_name": "HBoxView",
            "_dom_classes": [],
            "_model_name": "HBoxModel",
            "_view_module": "@jupyter-widgets/controls",
            "_model_module_version": "1.5.0",
            "_view_count": null,
            "_view_module_version": "1.5.0",
            "box_style": "",
            "layout": "IPY_MODEL_9f6b1c7dc5ac495a8c5c97cb5a944859",
            "_model_module": "@jupyter-widgets/controls",
            "children": [
              "IPY_MODEL_1f1782659b7f4dbb9ce733a94eecbd68",
              "IPY_MODEL_644ab82da71149ddbc035119cadbbb5e"
            ]
          }
        },
        "9f6b1c7dc5ac495a8c5c97cb5a944859": {
          "model_module": "@jupyter-widgets/base",
          "model_name": "LayoutModel",
          "state": {
            "_view_name": "LayoutView",
            "grid_template_rows": null,
            "right": null,
            "justify_content": null,
            "_view_module": "@jupyter-widgets/base",
            "overflow": null,
            "_model_module_version": "1.2.0",
            "_view_count": null,
            "flex_flow": null,
            "width": null,
            "min_width": null,
            "border": null,
            "align_items": null,
            "bottom": null,
            "_model_module": "@jupyter-widgets/base",
            "top": null,
            "grid_column": null,
            "overflow_y": null,
            "overflow_x": null,
            "grid_auto_flow": null,
            "grid_area": null,
            "grid_template_columns": null,
            "flex": null,
            "_model_name": "LayoutModel",
            "justify_items": null,
            "grid_row": null,
            "max_height": null,
            "align_content": null,
            "visibility": null,
            "align_self": null,
            "height": null,
            "min_height": null,
            "padding": null,
            "grid_auto_rows": null,
            "grid_gap": null,
            "max_width": null,
            "order": null,
            "_view_module_version": "1.2.0",
            "grid_template_areas": null,
            "object_position": null,
            "object_fit": null,
            "grid_auto_columns": null,
            "margin": null,
            "display": null,
            "left": null
          }
        },
        "1f1782659b7f4dbb9ce733a94eecbd68": {
          "model_module": "@jupyter-widgets/controls",
          "model_name": "FloatProgressModel",
          "state": {
            "_view_name": "ProgressView",
            "style": "IPY_MODEL_763d71e286d645ada4d19ad73da4cb31",
            "_dom_classes": [],
            "description": "Downloading: 100%",
            "_model_name": "FloatProgressModel",
            "bar_style": "success",
            "max": 536063208,
            "_view_module": "@jupyter-widgets/controls",
            "_model_module_version": "1.5.0",
            "value": 536063208,
            "_view_count": null,
            "_view_module_version": "1.5.0",
            "orientation": "horizontal",
            "min": 0,
            "description_tooltip": null,
            "_model_module": "@jupyter-widgets/controls",
            "layout": "IPY_MODEL_1e4dc6e498634be896c42f989ab562b1"
          }
        },
        "644ab82da71149ddbc035119cadbbb5e": {
          "model_module": "@jupyter-widgets/controls",
          "model_name": "HTMLModel",
          "state": {
            "_view_name": "HTMLView",
            "style": "IPY_MODEL_0c77be8c70ef4efb885bf036a8f392ab",
            "_dom_classes": [],
            "description": "",
            "_model_name": "HTMLModel",
            "placeholder": "​",
            "_view_module": "@jupyter-widgets/controls",
            "_model_module_version": "1.5.0",
            "value": " 536M/536M [00:09&lt;00:00, 55.0MB/s]",
            "_view_count": null,
            "_view_module_version": "1.5.0",
            "description_tooltip": null,
            "_model_module": "@jupyter-widgets/controls",
            "layout": "IPY_MODEL_c494faaad9b447c9b70543dba94b3246"
          }
        },
        "763d71e286d645ada4d19ad73da4cb31": {
          "model_module": "@jupyter-widgets/controls",
          "model_name": "ProgressStyleModel",
          "state": {
            "_view_name": "StyleView",
            "_model_name": "ProgressStyleModel",
            "description_width": "initial",
            "_view_module": "@jupyter-widgets/base",
            "_model_module_version": "1.5.0",
            "_view_count": null,
            "_view_module_version": "1.2.0",
            "bar_color": null,
            "_model_module": "@jupyter-widgets/controls"
          }
        },
        "1e4dc6e498634be896c42f989ab562b1": {
          "model_module": "@jupyter-widgets/base",
          "model_name": "LayoutModel",
          "state": {
            "_view_name": "LayoutView",
            "grid_template_rows": null,
            "right": null,
            "justify_content": null,
            "_view_module": "@jupyter-widgets/base",
            "overflow": null,
            "_model_module_version": "1.2.0",
            "_view_count": null,
            "flex_flow": null,
            "width": null,
            "min_width": null,
            "border": null,
            "align_items": null,
            "bottom": null,
            "_model_module": "@jupyter-widgets/base",
            "top": null,
            "grid_column": null,
            "overflow_y": null,
            "overflow_x": null,
            "grid_auto_flow": null,
            "grid_area": null,
            "grid_template_columns": null,
            "flex": null,
            "_model_name": "LayoutModel",
            "justify_items": null,
            "grid_row": null,
            "max_height": null,
            "align_content": null,
            "visibility": null,
            "align_self": null,
            "height": null,
            "min_height": null,
            "padding": null,
            "grid_auto_rows": null,
            "grid_gap": null,
            "max_width": null,
            "order": null,
            "_view_module_version": "1.2.0",
            "grid_template_areas": null,
            "object_position": null,
            "object_fit": null,
            "grid_auto_columns": null,
            "margin": null,
            "display": null,
            "left": null
          }
        },
        "0c77be8c70ef4efb885bf036a8f392ab": {
          "model_module": "@jupyter-widgets/controls",
          "model_name": "DescriptionStyleModel",
          "state": {
            "_view_name": "StyleView",
            "_model_name": "DescriptionStyleModel",
            "description_width": "",
            "_view_module": "@jupyter-widgets/base",
            "_model_module_version": "1.5.0",
            "_view_count": null,
            "_view_module_version": "1.2.0",
            "_model_module": "@jupyter-widgets/controls"
          }
        },
        "c494faaad9b447c9b70543dba94b3246": {
          "model_module": "@jupyter-widgets/base",
          "model_name": "LayoutModel",
          "state": {
            "_view_name": "LayoutView",
            "grid_template_rows": null,
            "right": null,
            "justify_content": null,
            "_view_module": "@jupyter-widgets/base",
            "overflow": null,
            "_model_module_version": "1.2.0",
            "_view_count": null,
            "flex_flow": null,
            "width": null,
            "min_width": null,
            "border": null,
            "align_items": null,
            "bottom": null,
            "_model_module": "@jupyter-widgets/base",
            "top": null,
            "grid_column": null,
            "overflow_y": null,
            "overflow_x": null,
            "grid_auto_flow": null,
            "grid_area": null,
            "grid_template_columns": null,
            "flex": null,
            "_model_name": "LayoutModel",
            "justify_items": null,
            "grid_row": null,
            "max_height": null,
            "align_content": null,
            "visibility": null,
            "align_self": null,
            "height": null,
            "min_height": null,
            "padding": null,
            "grid_auto_rows": null,
            "grid_gap": null,
            "max_width": null,
            "order": null,
            "_view_module_version": "1.2.0",
            "grid_template_areas": null,
            "object_position": null,
            "object_fit": null,
            "grid_auto_columns": null,
            "margin": null,
            "display": null,
            "left": null
          }
        }
      }
    }
  },
  "cells": [
    {
      "cell_type": "code",
      "metadata": {
        "colab": {
          "base_uri": "https://localhost:8080/"
        },
        "id": "Lu6CCLW8OWEV",
        "outputId": "9ae3bf14-08ba-42ae-b5d9-d87a516a1054"
      },
      "source": [
        "%tensorflow_version 2.x\n",
        "import tensorflow as tf\n",
        "device_name = tf.test.gpu_device_name()\n",
        "if device_name != '/device:GPU:0':\n",
        "  raise SystemError('GPU device not found')\n",
        "print('Found GPU at: {}'.format(device_name))"
      ],
      "execution_count": 1,
      "outputs": [
        {
          "output_type": "stream",
          "text": [
            "Found GPU at: /device:GPU:0\n"
          ],
          "name": "stdout"
        }
      ]
    },
    {
      "cell_type": "code",
      "metadata": {
        "colab": {
          "base_uri": "https://localhost:8080/"
        },
        "id": "oxedPL5lOhDv",
        "outputId": "a95de413-8ba0-4e3d-d6a0-013790042773"
      },
      "source": [
        "from google.colab import drive\n",
        "drive.mount('/content/gdrive')"
      ],
      "execution_count": 2,
      "outputs": [
        {
          "output_type": "stream",
          "text": [
            "Mounted at /content/gdrive\n"
          ],
          "name": "stdout"
        }
      ]
    },
    {
      "cell_type": "code",
      "metadata": {
        "colab": {
          "base_uri": "https://localhost:8080/"
        },
        "id": "6MkXbU4HOrUl",
        "outputId": "20967cce-5157-4eec-d6ae-15d4222a6526"
      },
      "source": [
        "!pip install silence_tensorflow\n",
        "!pip install pycm\n",
        "!pip install lime\n",
        "!pip install transformers\n",
        "import nltk\n",
        "nltk.download('stopwords')\n",
        "nltk.download('wordnet')"
      ],
      "execution_count": 3,
      "outputs": [
        {
          "output_type": "stream",
          "text": [
            "Collecting silence_tensorflow\n",
            "  Downloading https://files.pythonhosted.org/packages/96/d7/076b21d0e79cfc8a085f623e6577b754c50a42cfbcce51d77d0d2206988c/silence_tensorflow-1.1.1.tar.gz\n",
            "Building wheels for collected packages: silence-tensorflow\n",
            "  Building wheel for silence-tensorflow (setup.py) ... \u001b[?25l\u001b[?25hdone\n",
            "  Created wheel for silence-tensorflow: filename=silence_tensorflow-1.1.1-cp37-none-any.whl size=3743 sha256=9d9874d2b3dd29586ea3f299fa456c76059478f44e75c30712dbc341b4296571\n",
            "  Stored in directory: /root/.cache/pip/wheels/51/0b/35/cf3020764bee61daa81fa249df3a448e3806344a087fc12292\n",
            "Successfully built silence-tensorflow\n",
            "Installing collected packages: silence-tensorflow\n",
            "Successfully installed silence-tensorflow-1.1.1\n",
            "Collecting pycm\n",
            "\u001b[?25l  Downloading https://files.pythonhosted.org/packages/76/c4/a05b90819dcf7e50bdddb030238a771bf87b0695e6c47a247f66ab7ed5d0/pycm-3.1-py2.py3-none-any.whl (63kB)\n",
            "\u001b[K     |████████████████████████████████| 71kB 7.0MB/s \n",
            "\u001b[?25hCollecting art>=1.8\n",
            "\u001b[?25l  Downloading https://files.pythonhosted.org/packages/83/37/c28d69ba1005889e8ff9633b8e7eccaaddc03549058a51ef5f51853cf183/art-5.1-py2.py3-none-any.whl (567kB)\n",
            "\u001b[K     |████████████████████████████████| 573kB 12.5MB/s \n",
            "\u001b[?25hRequirement already satisfied: numpy>=1.9.0 in /usr/local/lib/python3.7/dist-packages (from pycm) (1.19.5)\n",
            "Installing collected packages: art, pycm\n",
            "Successfully installed art-5.1 pycm-3.1\n",
            "Collecting lime\n",
            "\u001b[?25l  Downloading https://files.pythonhosted.org/packages/f5/86/91a13127d83d793ecb50eb75e716f76e6eda809b6803c5a4ff462339789e/lime-0.2.0.1.tar.gz (275kB)\n",
            "\u001b[K     |████████████████████████████████| 276kB 14.1MB/s \n",
            "\u001b[?25hRequirement already satisfied: matplotlib in /usr/local/lib/python3.7/dist-packages (from lime) (3.2.2)\n",
            "Requirement already satisfied: numpy in /usr/local/lib/python3.7/dist-packages (from lime) (1.19.5)\n",
            "Requirement already satisfied: scipy in /usr/local/lib/python3.7/dist-packages (from lime) (1.4.1)\n",
            "Requirement already satisfied: tqdm in /usr/local/lib/python3.7/dist-packages (from lime) (4.41.1)\n",
            "Requirement already satisfied: scikit-learn>=0.18 in /usr/local/lib/python3.7/dist-packages (from lime) (0.22.2.post1)\n",
            "Requirement already satisfied: scikit-image>=0.12 in /usr/local/lib/python3.7/dist-packages (from lime) (0.16.2)\n",
            "Requirement already satisfied: pyparsing!=2.0.4,!=2.1.2,!=2.1.6,>=2.0.1 in /usr/local/lib/python3.7/dist-packages (from matplotlib->lime) (2.4.7)\n",
            "Requirement already satisfied: kiwisolver>=1.0.1 in /usr/local/lib/python3.7/dist-packages (from matplotlib->lime) (1.3.1)\n",
            "Requirement already satisfied: python-dateutil>=2.1 in /usr/local/lib/python3.7/dist-packages (from matplotlib->lime) (2.8.1)\n",
            "Requirement already satisfied: cycler>=0.10 in /usr/local/lib/python3.7/dist-packages (from matplotlib->lime) (0.10.0)\n",
            "Requirement already satisfied: joblib>=0.11 in /usr/local/lib/python3.7/dist-packages (from scikit-learn>=0.18->lime) (1.0.1)\n",
            "Requirement already satisfied: pillow>=4.3.0 in /usr/local/lib/python3.7/dist-packages (from scikit-image>=0.12->lime) (7.1.2)\n",
            "Requirement already satisfied: networkx>=2.0 in /usr/local/lib/python3.7/dist-packages (from scikit-image>=0.12->lime) (2.5.1)\n",
            "Requirement already satisfied: imageio>=2.3.0 in /usr/local/lib/python3.7/dist-packages (from scikit-image>=0.12->lime) (2.4.1)\n",
            "Requirement already satisfied: PyWavelets>=0.4.0 in /usr/local/lib/python3.7/dist-packages (from scikit-image>=0.12->lime) (1.1.1)\n",
            "Requirement already satisfied: six>=1.5 in /usr/local/lib/python3.7/dist-packages (from python-dateutil>=2.1->matplotlib->lime) (1.15.0)\n",
            "Requirement already satisfied: decorator<5,>=4.3 in /usr/local/lib/python3.7/dist-packages (from networkx>=2.0->scikit-image>=0.12->lime) (4.4.2)\n",
            "Building wheels for collected packages: lime\n",
            "  Building wheel for lime (setup.py) ... \u001b[?25l\u001b[?25hdone\n",
            "  Created wheel for lime: filename=lime-0.2.0.1-cp37-none-any.whl size=283846 sha256=c0c8e7c8cd0366f34e482face27d58210223ab8cddf1465367e5b05c5718562b\n",
            "  Stored in directory: /root/.cache/pip/wheels/4c/4f/a5/0bc765457bd41378bf3ce8d17d7495369d6e7ca3b712c60c89\n",
            "Successfully built lime\n",
            "Installing collected packages: lime\n",
            "Successfully installed lime-0.2.0.1\n",
            "Collecting transformers\n",
            "\u001b[?25l  Downloading https://files.pythonhosted.org/packages/d8/b2/57495b5309f09fa501866e225c84532d1fd89536ea62406b2181933fb418/transformers-4.5.1-py3-none-any.whl (2.1MB)\n",
            "\u001b[K     |████████████████████████████████| 2.1MB 15.4MB/s \n",
            "\u001b[?25hRequirement already satisfied: numpy>=1.17 in /usr/local/lib/python3.7/dist-packages (from transformers) (1.19.5)\n",
            "Collecting sacremoses\n",
            "\u001b[?25l  Downloading https://files.pythonhosted.org/packages/08/cd/342e584ee544d044fb573ae697404ce22ede086c9e87ce5960772084cad0/sacremoses-0.0.44.tar.gz (862kB)\n",
            "\u001b[K     |████████████████████████████████| 870kB 54.6MB/s \n",
            "\u001b[?25hRequirement already satisfied: filelock in /usr/local/lib/python3.7/dist-packages (from transformers) (3.0.12)\n",
            "Requirement already satisfied: importlib-metadata; python_version < \"3.8\" in /usr/local/lib/python3.7/dist-packages (from transformers) (3.10.0)\n",
            "Requirement already satisfied: requests in /usr/local/lib/python3.7/dist-packages (from transformers) (2.23.0)\n",
            "Requirement already satisfied: packaging in /usr/local/lib/python3.7/dist-packages (from transformers) (20.9)\n",
            "Collecting tokenizers<0.11,>=0.10.1\n",
            "\u001b[?25l  Downloading https://files.pythonhosted.org/packages/ae/04/5b870f26a858552025a62f1649c20d29d2672c02ff3c3fb4c688ca46467a/tokenizers-0.10.2-cp37-cp37m-manylinux2010_x86_64.whl (3.3MB)\n",
            "\u001b[K     |████████████████████████████████| 3.3MB 53.6MB/s \n",
            "\u001b[?25hRequirement already satisfied: regex!=2019.12.17 in /usr/local/lib/python3.7/dist-packages (from transformers) (2019.12.20)\n",
            "Requirement already satisfied: tqdm>=4.27 in /usr/local/lib/python3.7/dist-packages (from transformers) (4.41.1)\n",
            "Requirement already satisfied: six in /usr/local/lib/python3.7/dist-packages (from sacremoses->transformers) (1.15.0)\n",
            "Requirement already satisfied: click in /usr/local/lib/python3.7/dist-packages (from sacremoses->transformers) (7.1.2)\n",
            "Requirement already satisfied: joblib in /usr/local/lib/python3.7/dist-packages (from sacremoses->transformers) (1.0.1)\n",
            "Requirement already satisfied: typing-extensions>=3.6.4; python_version < \"3.8\" in /usr/local/lib/python3.7/dist-packages (from importlib-metadata; python_version < \"3.8\"->transformers) (3.7.4.3)\n",
            "Requirement already satisfied: zipp>=0.5 in /usr/local/lib/python3.7/dist-packages (from importlib-metadata; python_version < \"3.8\"->transformers) (3.4.1)\n",
            "Requirement already satisfied: certifi>=2017.4.17 in /usr/local/lib/python3.7/dist-packages (from requests->transformers) (2020.12.5)\n",
            "Requirement already satisfied: urllib3!=1.25.0,!=1.25.1,<1.26,>=1.21.1 in /usr/local/lib/python3.7/dist-packages (from requests->transformers) (1.24.3)\n",
            "Requirement already satisfied: idna<3,>=2.5 in /usr/local/lib/python3.7/dist-packages (from requests->transformers) (2.10)\n",
            "Requirement already satisfied: chardet<4,>=3.0.2 in /usr/local/lib/python3.7/dist-packages (from requests->transformers) (3.0.4)\n",
            "Requirement already satisfied: pyparsing>=2.0.2 in /usr/local/lib/python3.7/dist-packages (from packaging->transformers) (2.4.7)\n",
            "Building wheels for collected packages: sacremoses\n",
            "  Building wheel for sacremoses (setup.py) ... \u001b[?25l\u001b[?25hdone\n",
            "  Created wheel for sacremoses: filename=sacremoses-0.0.44-cp37-none-any.whl size=886084 sha256=16f3843f63e30336886abd9a1942eb978b073f2946146fb1af17c43307422b63\n",
            "  Stored in directory: /root/.cache/pip/wheels/3e/fb/c0/13ab4d63d537658f448366744654323077c4d90069b6512f3c\n",
            "Successfully built sacremoses\n",
            "Installing collected packages: sacremoses, tokenizers, transformers\n",
            "Successfully installed sacremoses-0.0.44 tokenizers-0.10.2 transformers-4.5.1\n",
            "[nltk_data] Downloading package stopwords to /root/nltk_data...\n",
            "[nltk_data]   Unzipping corpora/stopwords.zip.\n",
            "[nltk_data] Downloading package wordnet to /root/nltk_data...\n",
            "[nltk_data]   Unzipping corpora/wordnet.zip.\n"
          ],
          "name": "stdout"
        },
        {
          "output_type": "execute_result",
          "data": {
            "text/plain": [
              "True"
            ]
          },
          "metadata": {
            "tags": []
          },
          "execution_count": 3
        }
      ]
    },
    {
      "cell_type": "code",
      "metadata": {
        "id": "qqaSuDi0PMuq"
      },
      "source": [
        "import os\n",
        "default_path = \"/content/gdrive/MyDrive/Colab Notebooks/Automatic Software Artifacts\"\n",
        "os.chdir(default_path)"
      ],
      "execution_count": 4,
      "outputs": []
    },
    {
      "cell_type": "code",
      "metadata": {
        "id": "rlEQzlfvNvmX"
      },
      "source": [
        "import warnings\n",
        "warnings.filterwarnings(\"ignore\")\n",
        "import numpy as np\n",
        "import pandas as pd\n",
        "## for deep learning\n",
        "import tensorflow as tf\n",
        "from tensorflow.keras.layers import Embedding\n",
        "from tensorflow.keras import layers, preprocessing as kprocessing\n",
        "from tensorflow.keras import backend as K\n",
        "## for bert language model\n",
        "import transformers\n",
        "from transformers import BertTokenizer, TFBertModel, BertConfig, TFDistilBertModel\n",
        "from tensorflow.keras.models import Sequential, Model\n",
        "from tensorflow.keras.layers import Dense, Dropout, Activation, Conv1D, GlobalMaxPooling1D, LSTM, SpatialDropout1D, Input, Flatten, MaxPooling1D\n",
        "from sklearn.utils import shuffle\n",
        "from tensorflow.keras.preprocessing import text, sequence\n",
        "from sklearn.model_selection import train_test_split\n",
        "from tensorflow.keras.optimizers import Adam\n",
        "from tensorflow.keras import utils\n",
        "\n",
        "## for plotting\n",
        "import matplotlib.pyplot as plt\n",
        "import seaborn as sns\n",
        "## for processing\n",
        "import nltk\n",
        "import re\n",
        "## for bag-of-words\n",
        "from sklearn.feature_extraction.text import TfidfVectorizer\n",
        "from sklearn import feature_extraction, model_selection, naive_bayes, pipeline, manifold, preprocessing\n",
        "from sklearn.preprocessing import LabelEncoder\n",
        "from sklearn import feature_selection\n",
        "# Classifiers\n",
        "from sklearn.linear_model import LogisticRegression\n",
        "from sklearn.ensemble import RandomForestClassifier, AdaBoostClassifier, VotingClassifier\n",
        "from sklearn import svm\n",
        "from sklearn.svm import SVC, LinearSVC\n",
        "from sklearn.tree import DecisionTreeClassifier\n",
        "from sklearn.naive_bayes import MultinomialNB, GaussianNB, ComplementNB\n",
        "from sklearn.model_selection import StratifiedShuffleSplit\n",
        "# Metrics\n",
        "from sklearn import metrics\n",
        "from sklearn.metrics import confusion_matrix\n",
        "from pycm import *\n",
        "## for explainer\n",
        "from lime import lime_text\n",
        "## for word embedding\n",
        "import gensim\n",
        "import gensim.downloader as gensim_api\n",
        "\n",
        "import utils_functions as uf\n",
        "\n",
        "import matplotlib as mpl\n",
        "# Set the default color cycle\n",
        "mpl.rcParams['axes.prop_cycle'] = mpl.cycler(color=[\"b\", \"k\", \"c\"]) \n",
        "\n",
        "np.random.seed(7)"
      ],
      "execution_count": 5,
      "outputs": []
    },
    {
      "cell_type": "markdown",
      "metadata": {
        "id": "sJIZ4lsONvmf"
      },
      "source": [
        "### Some Utils Functions"
      ]
    },
    {
      "cell_type": "code",
      "metadata": {
        "id": "EnJ7ms3y1atk"
      },
      "source": [
        "# encode y_train\n",
        "def encode_y(y_in):\n",
        "    dic_y_mapping = {n:label for n,label in enumerate(np.unique(y_in))}\n",
        "    inverse_dic = {v:k for k,v in dic_y_mapping.items()}\n",
        "    y_in = np.array([inverse_dic[y] for y in y_in])\n",
        "    return y_in, dic_y_mapping"
      ],
      "execution_count": 6,
      "outputs": []
    },
    {
      "cell_type": "code",
      "metadata": {
        "id": "8YZHVr33Nvmg"
      },
      "source": [
        "# '''\n",
        "# Compute different text length metrics.\n",
        "# :parameter\n",
        "#     :param dtf: dataframe - dtf with a text column\n",
        "#     :param column: string - name of column containing text\n",
        "# :return\n",
        "#     dtf: input dataframe with 2 new columns\n",
        "# '''\n",
        "def add_text_length(dtf, column):\n",
        "    dtf['word_count'] = dtf[column].apply(lambda x: len(str(x).split(\" \")))\n",
        "    dtf['char_count'] = dtf[column].apply(lambda x: sum(len(word) for word in str(x).split(\" \")))\n",
        "    dtf['sentence_count'] = dtf[column].apply(lambda x: len(str(x).split(\".\")))\n",
        "    dtf['avg_word_length'] = dtf['char_count'] / dtf['word_count']\n",
        "    dtf['avg_sentence_lenght'] = dtf['word_count'] / dtf['sentence_count']\n",
        "    print(dtf[['word_count','char_count','sentence_count','avg_word_length','avg_sentence_lenght']].describe().T[[\"min\",\"mean\",\"max\"]])\n",
        "    return dtf"
      ],
      "execution_count": 7,
      "outputs": []
    },
    {
      "cell_type": "code",
      "metadata": {
        "id": "x95STmQiNvmh"
      },
      "source": [
        "from sklearn.decomposition import IncrementalPCA    # inital reduction\n",
        "from sklearn.manifold import TSNE                   # final reduction\n",
        "import numpy as np                                  # array handling\n",
        "\n",
        "def display_closestwords_tsnescatterplot(word_vect, dim, words):\n",
        "    \n",
        "    arr = np.empty((0,dim), dtype='f')\n",
        "    word_labels = words\n",
        "\n",
        "    # get close words\n",
        "    #close_words = [model.similar_by_word(word) for word in words]\n",
        "    \n",
        "    # add the vector for each of the closest words to the array\n",
        "    close_words=[]\n",
        "    for word in words:\n",
        "        arr = np.append(arr, np.array([word_vect[word]]), axis=0)\n",
        "        close_words +=model.similar_by_word(word)\n",
        "        \n",
        "    for wrd_score in close_words:\n",
        "        wrd_vector = word_vect[wrd_score[0]]\n",
        "        word_labels.append(wrd_score[0])\n",
        "        arr = np.append(arr, np.array([wrd_vector]), axis=0)\n",
        "        \n",
        "    # find tsne coords for 2 dimensions\n",
        "    tsne = TSNE(n_components=2, random_state=0)\n",
        "    #np.set_printoptions(suppress=True)\n",
        "    Y = tsne.fit_transform(arr)\n",
        "\n",
        "    x_coords = Y[:, 0]\n",
        "    y_coords = Y[:, 1]\n",
        "    # display scatter plot\n",
        "    plt.scatter(x_coords, y_coords)\n",
        "\n",
        "    for label, x, y in zip(word_labels, x_coords, y_coords):\n",
        "        plt.annotate(label, xy=(x, y), xytext=(0, 0), textcoords='offset points')\n",
        "    plt.xlim(x_coords.min()+0.00005, x_coords.max()+0.00005)\n",
        "    plt.ylim(y_coords.min()+0.00005, y_coords.max()+0.00005)\n",
        "    plt.show()\n",
        "    \n",
        "def tsne_plot(word_vect, words):\n",
        "    \"Creates and TSNE model and plots it\"\n",
        "    labels = []\n",
        "    tokens = []\n",
        "\n",
        "    #for word in model.wv.vocab:\n",
        "    for word in words:\n",
        "        tokens.append(word_vect[word])\n",
        "        labels.append(word)\n",
        "    \n",
        "    tsne_model = TSNE(perplexity=40, n_components=2, init='pca', n_iter=2500, random_state=23)\n",
        "    new_values = tsne_model.fit_transform(tokens)\n",
        "\n",
        "    x = []\n",
        "    y = []\n",
        "    for value in new_values:\n",
        "        x.append(value[0])\n",
        "        y.append(value[1])\n",
        "        \n",
        "    plt.figure(figsize=(14, 10)) \n",
        "    for i in range(len(x)):\n",
        "        plt.scatter(x[i],y[i])\n",
        "        plt.annotate(labels[i],\n",
        "                     xy=(x[i], y[i]),\n",
        "                     xytext=(5, 2),\n",
        "                     textcoords='offset points',\n",
        "                     ha='right',\n",
        "                     va='bottom')\n",
        "    plt.show()"
      ],
      "execution_count": 8,
      "outputs": []
    },
    {
      "cell_type": "markdown",
      "metadata": {
        "id": "NTBTCXLuNvmk"
      },
      "source": [
        "### Read and Show a Data Sample"
      ]
    },
    {
      "cell_type": "code",
      "metadata": {
        "id": "WYC6OB5GNvml",
        "tags": [
          "outputPrepend"
        ]
      },
      "source": [
        "file = 'aug_original_dataset.csv'\n",
        "df = pd.read_csv(file,encoding='ISO-8859-1')"
      ],
      "execution_count": 9,
      "outputs": []
    },
    {
      "cell_type": "code",
      "metadata": {
        "colab": {
          "base_uri": "https://localhost:8080/",
          "height": 195
        },
        "id": "zKe-o96UNvml",
        "outputId": "9da4a432-cdd3-4ea5-d939-abd298f5e632"
      },
      "source": [
        "df.sample(5)"
      ],
      "execution_count": 10,
      "outputs": [
        {
          "output_type": "execute_result",
          "data": {
            "text/html": [
              "<div>\n",
              "<style scoped>\n",
              "    .dataframe tbody tr th:only-of-type {\n",
              "        vertical-align: middle;\n",
              "    }\n",
              "\n",
              "    .dataframe tbody tr th {\n",
              "        vertical-align: top;\n",
              "    }\n",
              "\n",
              "    .dataframe thead th {\n",
              "        text-align: right;\n",
              "    }\n",
              "</style>\n",
              "<table border=\"1\" class=\"dataframe\">\n",
              "  <thead>\n",
              "    <tr style=\"text-align: right;\">\n",
              "      <th></th>\n",
              "      <th>Label</th>\n",
              "      <th>Text</th>\n",
              "    </tr>\n",
              "  </thead>\n",
              "  <tbody>\n",
              "    <tr>\n",
              "      <th>96</th>\n",
              "      <td>License</td>\n",
              "      <td>copyright c puppet labs inc and some parts cop...</td>\n",
              "    </tr>\n",
              "    <tr>\n",
              "      <th>22</th>\n",
              "      <td>List of Contributors</td>\n",
              "      <td>this is at least a partial credits file of peo...</td>\n",
              "    </tr>\n",
              "    <tr>\n",
              "      <th>113</th>\n",
              "      <td>License</td>\n",
              "      <td>gnu general public license version june copyri...</td>\n",
              "    </tr>\n",
              "    <tr>\n",
              "      <th>138</th>\n",
              "      <td>Contributors' Guide</td>\n",
              "      <td>testing with selenium selenium docs seleniumhq...</td>\n",
              "    </tr>\n",
              "    <tr>\n",
              "      <th>253</th>\n",
              "      <td>Setup Files</td>\n",
              "      <td>changes cz pm examples pl examples pl inc modu...</td>\n",
              "    </tr>\n",
              "  </tbody>\n",
              "</table>\n",
              "</div>"
            ],
            "text/plain": [
              "                    Label                                               Text\n",
              "96                License  copyright c puppet labs inc and some parts cop...\n",
              "22   List of Contributors  this is at least a partial credits file of peo...\n",
              "113               License  gnu general public license version june copyri...\n",
              "138   Contributors' Guide  testing with selenium selenium docs seleniumhq...\n",
              "253           Setup Files  changes cz pm examples pl examples pl inc modu..."
            ]
          },
          "metadata": {
            "tags": []
          },
          "execution_count": 10
        }
      ]
    },
    {
      "cell_type": "code",
      "metadata": {
        "colab": {
          "base_uri": "https://localhost:8080/",
          "height": 294
        },
        "id": "x5BpAMmQNvmn",
        "outputId": "eea4f93b-8aef-481d-a117-ec7a9d8674a1"
      },
      "source": [
        "fig, ax = plt.subplots()\n",
        "fig.suptitle(\"Univariate Distribution\", fontsize=12)\n",
        "df[\"Label\"].reset_index().groupby(\"Label\").count().sort_values(by= \n",
        "       \"index\").plot(kind=\"barh\", legend=False, \n",
        "        ax=ax).grid(axis='x')\n",
        "plt.show()"
      ],
      "execution_count": 11,
      "outputs": [
        {
          "output_type": "display_data",
          "data": {
            "image/png": "[encoded data removed]",
            "text/plain": [
              "<Figure size 432x288 with 1 Axes>"
            ]
          },
          "metadata": {
            "tags": [],
            "needs_background": "light"
          }
        }
      ]
    },
    {
      "cell_type": "code",
      "metadata": {
        "id": "nxz4gLekNvms"
      },
      "source": [
        "# encode y_train\n",
        "def encode_y_train(y_train):\n",
        "    dic_y_mapping = {n:label for n,label in enumerate(np.unique(y_train))}\n",
        "    inverse_dic = {v:k for k,v in dic_y_mapping.items()}\n",
        "    y_train = np.array([inverse_dic[y] for y in y_train])\n",
        "    return y_train, dic_y_mapping"
      ],
      "execution_count": 11,
      "outputs": []
    },
    {
      "cell_type": "code",
      "metadata": {
        "colab": {
          "base_uri": "https://localhost:8080/",
          "height": 166,
          "referenced_widgets": [
            "fec53342d910456cbbbafeba790388d7",
            "40f95e1081914c899af2589ec07ef2b2",
            "504a0692c82445ff8a03391a1982e9c1",
            "e70e47da86e94e478bf3c31a0ce6f6a3",
            "e10519f155c04e11a72f353affe666df",
            "5911c58631b04366ae7bc8c9e1ab25ee",
            "a21f61f2bab242b0b82c5981609732ee",
            "c151ede785d64ae99f1957f10989eb9e",
            "477635de0dbc4fe9876a42f3dfe819d7",
            "ae078a67836d4998b3af28757b35dc5c",
            "fae1d31c69eb4157939fca0c3614ed51",
            "1ebeaaca797a47a5ab308d7c02f976b8",
            "87a55a27a6464fb6adb9b37403a50351",
            "c06636609cd240ff8ad5978fb310d81a",
            "a8424578fabe465a94acabfb0805bf1b",
            "c47d00d3476342a792881c6093921d72",
            "f9e684fbb59349f59339f0d829f2ec24",
            "d3a54fd8c2d043e8a2561fe4f7cfe2e3",
            "fda06719ecc4416f994ed0bd8fda719f",
            "f0edbe0319bc455b922dc4128941f781",
            "f747263d5a3d4f1fadee6e53583549d4",
            "7943c102619b4d8a8a8be53875535989",
            "f647de01068f4d88a71dd5aca0569c7e",
            "23c2378ff54b4e75a256e245526548dc"
          ]
        },
        "id": "4BMsMwpZcWZo",
        "outputId": "13c29473-0580-4238-ad31-00f26fba27e0"
      },
      "source": [
        "from transformers import AutoModel, BertTokenizerFast\n",
        "\n",
        "# import BERT-base pretrained model\n",
        "# base_bert = AutoModel.from_pretrained('bert-base-uncased')\n",
        "\n",
        "# Load the BERT tokenizer\n",
        "tokenizer = BertTokenizerFast.from_pretrained('bert-base-uncased')"
      ],
      "execution_count": 12,
      "outputs": [
        {
          "output_type": "display_data",
          "data": {
            "application/vnd.jupyter.widget-view+json": {
              "model_id": "fec53342d910456cbbbafeba790388d7",
              "version_minor": 0,
              "version_major": 2
            },
            "text/plain": [
              "HBox(children=(FloatProgress(value=0.0, description='Downloading', max=231508.0, style=ProgressStyle(descripti…"
            ]
          },
          "metadata": {
            "tags": []
          }
        },
        {
          "output_type": "stream",
          "text": [
            "\n"
          ],
          "name": "stdout"
        },
        {
          "output_type": "display_data",
          "data": {
            "application/vnd.jupyter.widget-view+json": {
              "model_id": "477635de0dbc4fe9876a42f3dfe819d7",
              "version_minor": 0,
              "version_major": 2
            },
            "text/plain": [
              "HBox(children=(FloatProgress(value=0.0, description='Downloading', max=466062.0, style=ProgressStyle(descripti…"
            ]
          },
          "metadata": {
            "tags": []
          }
        },
        {
          "output_type": "stream",
          "text": [
            "\n"
          ],
          "name": "stdout"
        },
        {
          "output_type": "display_data",
          "data": {
            "application/vnd.jupyter.widget-view+json": {
              "model_id": "f9e684fbb59349f59339f0d829f2ec24",
              "version_minor": 0,
              "version_major": 2
            },
            "text/plain": [
              "HBox(children=(FloatProgress(value=0.0, description='Downloading', max=28.0, style=ProgressStyle(description_w…"
            ]
          },
          "metadata": {
            "tags": []
          }
        },
        {
          "output_type": "stream",
          "text": [
            "\n"
          ],
          "name": "stdout"
        }
      ]
    },
    {
      "cell_type": "markdown",
      "metadata": {
        "id": "uFtqfq-CNvms"
      },
      "source": [
        "## BERT\n",
        "Transfer learning from a pre-trained of BERT:\n",
        "24-layer, 1024-hidden, 16-heads, 336M parameters.\n",
        "Trained on lower-cased English text."
      ]
    },
    {
      "cell_type": "markdown",
      "metadata": {
        "id": "5cTaZ3LNNvms"
      },
      "source": [
        "### Tokenizer Definition"
      ]
    },
    {
      "cell_type": "code",
      "metadata": {
        "id": "u1XYDhyJNvmt"
      },
      "source": [
        "base_bert = 'bert-base-uncased' # Pick any desired pre-trained model\n",
        "\n",
        "# Defining DistilBERT tokonizer\n",
        "# tokenizer = BertTokenizer.from_pretrained(base_bert, do_lower_case=True, add_special_tokens=True,\n",
        "#                                                 max_length=256, pad_to_max_length=True)"
      ],
      "execution_count": 13,
      "outputs": []
    },
    {
      "cell_type": "markdown",
      "metadata": {
        "id": "efRAoc4aNvmt"
      },
      "source": [
        "### Load Model"
      ]
    },
    {
      "cell_type": "code",
      "metadata": {
        "colab": {
          "base_uri": "https://localhost:8080/",
          "height": 174,
          "referenced_widgets": [
            "3e6d25dee45443918044e82602b37ee9",
            "9f6b1c7dc5ac495a8c5c97cb5a944859",
            "1f1782659b7f4dbb9ce733a94eecbd68",
            "644ab82da71149ddbc035119cadbbb5e",
            "763d71e286d645ada4d19ad73da4cb31",
            "1e4dc6e498634be896c42f989ab562b1",
            "0c77be8c70ef4efb885bf036a8f392ab",
            "c494faaad9b447c9b70543dba94b3246"
          ]
        },
        "id": "95o78P2pNvmt",
        "outputId": "85943fb1-8724-4cd3-e501-4ee2e13ce1a3"
      },
      "source": [
        "config = BertConfig(dropout=0.2, attention_dropout=0.2)\n",
        "config.output_hidden_states = False\n",
        "transformer_model = TFBertModel.from_pretrained(base_bert, config = config)"
      ],
      "execution_count": 14,
      "outputs": [
        {
          "output_type": "display_data",
          "data": {
            "application/vnd.jupyter.widget-view+json": {
              "model_id": "3e6d25dee45443918044e82602b37ee9",
              "version_minor": 0,
              "version_major": 2
            },
            "text/plain": [
              "HBox(children=(FloatProgress(value=0.0, description='Downloading', max=536063208.0, style=ProgressStyle(descri…"
            ]
          },
          "metadata": {
            "tags": []
          }
        },
        {
          "output_type": "stream",
          "text": [
            "\n"
          ],
          "name": "stdout"
        },
        {
          "output_type": "stream",
          "text": [
            "Some layers from the model checkpoint at bert-base-uncased were not used when initializing TFBertModel: ['mlm___cls', 'nsp___cls']\n",
            "- This IS expected if you are initializing TFBertModel from the checkpoint of a model trained on another task or with another architecture (e.g. initializing a BertForSequenceClassification model from a BertForPreTraining model).\n",
            "- This IS NOT expected if you are initializing TFBertModel from the checkpoint of a model that you expect to be exactly identical (initializing a BertForSequenceClassification model from a BertForSequenceClassification model).\n",
            "All the layers of TFBertModel were initialized from the model checkpoint at bert-base-uncased.\n",
            "If your task is similar to the task the model of the checkpoint was trained on, you can already use TFBertModel for predictions without further training.\n"
          ],
          "name": "stderr"
        }
      ]
    },
    {
      "cell_type": "markdown",
      "metadata": {
        "id": "-ciu4AQUNvmu"
      },
      "source": [
        "### Tokenization of Documents"
      ]
    },
    {
      "cell_type": "code",
      "metadata": {
        "id": "UEILN-ChNvmu"
      },
      "source": [
        "max_length = 256\n",
        "def bert_tokenize(sentences, tokenizer):\n",
        "    corpus = []\n",
        "    sentences_list = []\n",
        "    sentences_list = sentences.tolist()\n",
        "    input_ids, input_masks, input_segments = [],[],[]\n",
        "\n",
        "    for sentence in sentences_list:\n",
        "        inputs = tokenizer.encode_plus(sentence, add_special_tokens=True, max_length=max_length\n",
        "                                       , pad_to_max_length=True, \n",
        "                                             return_attention_mask=True, return_token_type_ids=True)\n",
        "        input_ids.append(inputs['input_ids'])\n",
        "        input_masks.append(inputs['attention_mask'])\n",
        "\n",
        "#         input_segments.append(inputs['token_type_ids'])        \n",
        "        \n",
        "#     return np.asarray(input_ids, dtype='int32'), np.asarray(input_masks, dtype='int32'), np.asarray(input_segments, dtype='int32')\n",
        "    return np.asarray(input_ids, dtype='int32'), np.asarray(input_masks, dtype='int32')\n",
        "\n",
        "from tensorflow.keras.constraints import max_norm\n",
        "def fit_bert_classif(X_train, y_train, X_test, encode_y=False, dic_y_mapping=None, model=None, epochs=1, batch_size=8):\n",
        "    ## encode y\n",
        "    if encode_y is True:\n",
        "        dic_y_mapping = {n:label for n,label in enumerate(np.unique(y_train))}\n",
        "        inverse_dic = {v:k for k,v in dic_y_mapping.items()}\n",
        "        y_train = np.array( [inverse_dic[y] for y in y_train] )\n",
        "    \n",
        "    ## model\n",
        "    if model is None:\n",
        "        ### inputs\n",
        "        input_ids_in = tf.keras.layers.Input(shape=(max_length,), name='input_token', dtype='int32')\n",
        "        input_masks_in = tf.keras.layers.Input(shape=(max_length,), name='masked_token', dtype='int32')\n",
        "#         input_segments_in = tf.keras.layers.Input(shape=(max_length,), name='segment_token', dtype='int32') \n",
        "\n",
        "        \n",
        "        ### pre-trained bert\n",
        "        X = transformer_model(input_ids_in, attention_mask=input_masks_in)[0]\n",
        "\n",
        "        X = layers.SpatialDropout1D(0.2)(X)\n",
        "        X = layers.Bidirectional(layers.LSTM(90, dropout=0.2, recurrent_dropout=0.0))(X)\n",
        "\n",
        "        y_out = layers.Dense(len(np.unique(y_train)), activation='softmax')(X)\n",
        "\n",
        "\n",
        "        ### compile\n",
        "        model = Model(inputs=[input_ids_in, input_masks_in], outputs = y_out)\n",
        "\n",
        "        for layer in model.layers[:3]:\n",
        "            layer.trainable = False\n",
        "\n",
        "        model.compile(loss='sparse_categorical_crossentropy', optimizer='Nadam', metrics=['accuracy'])\n",
        "        # print(model.summary())\n",
        "        \n",
        "    ## train\n",
        "    verbose = 1 if epochs > 1 else 2\n",
        "    training = model.fit(x=X_train, y=y_train, batch_size=batch_size, epochs=epochs, shuffle=True, verbose=verbose, validation_split=0.2)\n",
        "    if epochs > 1:\n",
        "        utils_plot_keras_training(training)\n",
        "    \n",
        "    ## test\n",
        "    predicted_prob = model.predict(X_test)\n",
        "    predicted = [dic_y_mapping[np.argmax(pred)] for pred in predicted_prob] if encode_y is True else [np.argmax(pred)]\n",
        "    return training.model, predicted_prob, predicted\n",
        "\n",
        "\n",
        "'''\n",
        "Plot loss and metrics of keras training.\n",
        "'''\n",
        "def utils_plot_keras_training(training):\n",
        "    metrics = [k for k in training.history.keys() if (\"loss\" not in k) and (\"val\" not in k)]\n",
        "    fig, ax = plt.subplots(nrows=1, ncols=2, sharey=True, figsize=(15,3))\n",
        "    \n",
        "    ## training\n",
        "    ax[0].set(title=\"Training\")\n",
        "    ax11 = ax[0].twinx()\n",
        "    ax[0].plot(training.history['loss'], color='black')\n",
        "    ax[0].set_xlabel('Epochs')\n",
        "    ax[0].set_ylabel('Loss', color='black')\n",
        "    for metric in metrics:\n",
        "        ax11.plot(training.history[metric], label=metric)\n",
        "    ax11.set_ylabel(\"Score\", color='steelblue')\n",
        "    ax11.legend()\n",
        "    \n",
        "    ## validation\n",
        "    ax[1].set(title=\"Validation\")\n",
        "    ax22 = ax[1].twinx()\n",
        "    ax[1].plot(training.history['val_loss'], color='black')\n",
        "    ax[1].set_xlabel('Epochs')\n",
        "    ax[1].set_ylabel('Loss', color='black')\n",
        "    for metric in metrics:\n",
        "        ax22.plot(training.history['val_'+metric], label=metric)\n",
        "    ax22.set_ylabel(\"Score\", color=\"steelblue\")\n",
        "    plt.show()"
      ],
      "execution_count": 15,
      "outputs": []
    },
    {
      "cell_type": "markdown",
      "metadata": {
        "id": "ky4M2_woNvmr"
      },
      "source": [
        "### Define Target"
      ]
    },
    {
      "cell_type": "code",
      "metadata": {
        "id": "G-k9KC9cNvmv"
      },
      "source": [
        "X = df[\"Text\"]\n",
        "y = df[\"Label\"].values"
      ],
      "execution_count": 16,
      "outputs": []
    },
    {
      "cell_type": "code",
      "metadata": {
        "id": "4DzXtTmCqYLP"
      },
      "source": [
        "# Split original sentence in small sentences.\n",
        "def get_split(text1):\n",
        "    l_total   = []\n",
        "    l_partial = []\n",
        "    len_final = 0\n",
        "    if len(text1.split())//150 > 0:\n",
        "        n = len(text1.split())//150\n",
        "    else:\n",
        "        n = 1\n",
        "    for w in range(n):\n",
        "        if w == 0:\n",
        "            l_partial = text1.split()[:200]\n",
        "            l_total.append(\" \".join(l_partial))\n",
        "            len_final = len_final+ (len(l_total[w].split()))\n",
        "        else:\n",
        "            l_partial = text1.split()[w*150:w*150+200]\n",
        "            l_total.append(\" \".join(l_partial))\n",
        "            len_final = len_final+ (len(l_total[w].split()))\n",
        "        if (w == n-1 and n != 1) and (len_final-50 < len(text1.split())):\n",
        "            l_partial = text1.split()[n*200-50:len(text1.split())]\n",
        "            l_total.append(\" \".join(l_partial))\n",
        "    return l_total"
      ],
      "execution_count": 17,
      "outputs": []
    },
    {
      "cell_type": "code",
      "metadata": {
        "colab": {
          "base_uri": "https://localhost:8080/"
        },
        "id": "SCmcRA9xqYLP",
        "outputId": "8958dadb-db66-4064-fe2e-53abb097081a"
      },
      "source": [
        "# Function to replicate the same number of targets (classes) for each feature that is added.\n",
        "novas_features = []\n",
        "idx = 0\n",
        "total_geral = 0\n",
        "for i, val in X.iteritems():\n",
        "    total = get_split(X[i]) # divide as sentenças longas em sentenças menores\n",
        "    novas_features = novas_features + total\n",
        "    if len(X[i].split()) > 200:\n",
        "        total_geral = total_geral + len(total)\n",
        "        for j in range(len(total)-1):\n",
        "            y = np.insert(y, idx, y[idx])\n",
        "            idx += 1\n",
        "    idx += 1\n",
        "print(f'Summary - Initial Samples: {len (df [\"Label\"].values)} | Total New Samples: {len (y)}')\n",
        "X = pd.Series(novas_features)"
      ],
      "execution_count": 18,
      "outputs": [
        {
          "output_type": "stream",
          "text": [
            "Summary - Initial Samples: 260 | Total New Samples: 3359\n"
          ],
          "name": "stdout"
        }
      ]
    },
    {
      "cell_type": "markdown",
      "metadata": {
        "id": "axX8jp0CqYLP"
      },
      "source": [
        "### Plot data"
      ]
    },
    {
      "cell_type": "code",
      "metadata": {
        "id": "d6w-OaoXqYLQ"
      },
      "source": [
        "df_target = pd.DataFrame(y, columns=['Label'])\n",
        "df_data = pd.concat([X,df_target], axis=1)"
      ],
      "execution_count": 20,
      "outputs": []
    },
    {
      "cell_type": "code",
      "metadata": {
        "colab": {
          "base_uri": "https://localhost:8080/",
          "height": 294
        },
        "id": "gZlXS81MqYLQ",
        "outputId": "6b438e10-c35f-425e-cdf2-2646d0d0ef58"
      },
      "source": [
        "fig, ax = plt.subplots()\n",
        "fig.suptitle(\"Univariate Distribution\", fontsize=12)\n",
        "df_data[\"Label\"].reset_index().groupby(\"Label\").count().sort_values(by= \n",
        "       \"index\").plot(kind=\"barh\", legend=False, \n",
        "        ax=ax).grid(axis='x')\n",
        "plt.show()"
      ],
      "execution_count": 21,
      "outputs": [
        {
          "output_type": "display_data",
          "data": {
            "image/png": "[encoded data removed]",
            "text/plain": [
              "<Figure size 432x288 with 1 Axes>"
            ]
          },
          "metadata": {
            "tags": [],
            "needs_background": "light"
          }
        }
      ]
    },
    {
      "cell_type": "markdown",
      "metadata": {
        "id": "1IAvwG5yNvmv"
      },
      "source": [
        "### Training and Fine-tuning"
      ]
    },
    {
      "cell_type": "code",
      "metadata": {
        "colab": {
          "base_uri": "https://localhost:8080/",
          "height": 1000
        },
        "id": "VkYSVgkyNvmv",
        "outputId": "7dd7adf3-3c2b-4085-c63f-93a05773a13d"
      },
      "source": [
        "final_mean = []\n",
        "conf_matrix_list_of_arrays = []\n",
        "for i in range(1):\n",
        "\n",
        "    accrs = []\n",
        "    fold=0\n",
        "#     conf_matrix_list_of_arrays = []\n",
        "\n",
        "    k=2\n",
        "    sss = StratifiedShuffleSplit(n_splits=k, test_size=0.2, random_state=42)\n",
        "\n",
        "    for train_index, test_index in sss.split(X, y):\n",
        "        X_train, X_test = X[train_index], X[test_index]\n",
        "        y_train, y_test = y[train_index], y[test_index]\n",
        "\n",
        "        fold +=1\n",
        "\n",
        "        #create tensors\n",
        "        X_train = bert_tokenize(sentences=X_train, tokenizer=tokenizer)\n",
        "        X_test = bert_tokenize(sentences=X_test, tokenizer=tokenizer)\n",
        "\n",
        "        model, predicted_prob, predicted = fit_bert_classif(X_train, y_train, X_test, encode_y=True, \n",
        "                                                            model=None, epochs=10, batch_size=8)\n",
        "        # Validade Test Set\n",
        "        accr = metrics.accuracy_score(y_test, predicted)\n",
        "        #\n",
        "        conf_matrix = confusion_matrix(y_test, predicted)\n",
        "        conf_matrix_list_of_arrays.append(conf_matrix)\n",
        "        #\n",
        "        accrs.append(accr)\n",
        "\n",
        "        print('\\n--------------------------------------------------------------------')\n",
        "        print(f'Iteração: {i+1} Fold: {fold} Accuracy: {accr}, Mean Accuracy: {sum(accrs)/fold}')\n",
        "        print('\\n--------------------------------------------------------------------')\n",
        "    final_mean.append(sum(accrs)/k)\n",
        "\n",
        "# means for Confusion Matrix\n",
        "mean_of_conf_matrix_arrays = np.mean(conf_matrix_list_of_arrays, axis=0)"
      ],
      "execution_count": 21,
      "outputs": [
        {
          "output_type": "stream",
          "text": [
            "WARNING:tensorflow:The parameters `output_attentions`, `output_hidden_states` and `use_cache` cannot be updated when calling a model.They have to be set to True/False in the config object (i.e.: `config=XConfig.from_pretrained('name', output_attentions=True)`).\n",
            "WARNING:tensorflow:The parameter `return_dict` cannot be set in graph mode and will always be set to `True`.\n",
            "Epoch 1/10\n",
            "WARNING:tensorflow:The parameters `output_attentions`, `output_hidden_states` and `use_cache` cannot be updated when calling a model.They have to be set to True/False in the config object (i.e.: `config=XConfig.from_pretrained('name', output_attentions=True)`).\n",
            "WARNING:tensorflow:The parameter `return_dict` cannot be set in graph mode and will always be set to `True`.\n",
            "WARNING:tensorflow:The parameters `output_attentions`, `output_hidden_states` and `use_cache` cannot be updated when calling a model.They have to be set to True/False in the config object (i.e.: `config=XConfig.from_pretrained('name', output_attentions=True)`).\n",
            "WARNING:tensorflow:The parameter `return_dict` cannot be set in graph mode and will always be set to `True`.\n",
            "269/269 [==============================] - ETA: 0s - loss: 0.7667 - accuracy: 0.7389WARNING:tensorflow:The parameters `output_attentions`, `output_hidden_states` and `use_cache` cannot be updated when calling a model.They have to be set to True/False in the config object (i.e.: `config=XConfig.from_pretrained('name', output_attentions=True)`).\n",
            "WARNING:tensorflow:The parameter `return_dict` cannot be set in graph mode and will always be set to `True`.\n",
            "269/269 [==============================] - 76s 233ms/step - loss: 0.7658 - accuracy: 0.7392 - val_loss: 0.3566 - val_accuracy: 0.8773\n",
            "Epoch 2/10\n",
            "269/269 [==============================] - 61s 225ms/step - loss: 0.3032 - accuracy: 0.8870 - val_loss: 0.2017 - val_accuracy: 0.9201\n",
            "Epoch 3/10\n",
            "269/269 [==============================] - 61s 228ms/step - loss: 0.2361 - accuracy: 0.9092 - val_loss: 0.1521 - val_accuracy: 0.9480\n",
            "Epoch 4/10\n",
            "269/269 [==============================] - 62s 229ms/step - loss: 0.1821 - accuracy: 0.9401 - val_loss: 0.1283 - val_accuracy: 0.9572\n",
            "Epoch 5/10\n",
            "269/269 [==============================] - 62s 230ms/step - loss: 0.1385 - accuracy: 0.9516 - val_loss: 0.1120 - val_accuracy: 0.9628\n",
            "Epoch 6/10\n",
            "269/269 [==============================] - 62s 231ms/step - loss: 0.1274 - accuracy: 0.9616 - val_loss: 0.1726 - val_accuracy: 0.9424\n",
            "Epoch 7/10\n",
            "269/269 [==============================] - 62s 231ms/step - loss: 0.1069 - accuracy: 0.9639 - val_loss: 0.1093 - val_accuracy: 0.9535\n",
            "Epoch 8/10\n",
            "269/269 [==============================] - 62s 231ms/step - loss: 0.0787 - accuracy: 0.9809 - val_loss: 0.1219 - val_accuracy: 0.9647\n",
            "Epoch 9/10\n",
            "269/269 [==============================] - 62s 232ms/step - loss: 0.0604 - accuracy: 0.9820 - val_loss: 0.0926 - val_accuracy: 0.9628\n",
            "Epoch 10/10\n",
            "269/269 [==============================] - 62s 231ms/step - loss: 0.0641 - accuracy: 0.9781 - val_loss: 0.0944 - val_accuracy: 0.9703\n"
          ],
          "name": "stdout"
        },
        {
          "output_type": "display_data",
          "data": {
            "image/png": "[encoded data removed]",
            "text/plain": [
              "<Figure size 1080x216 with 4 Axes>"
            ]
          },
          "metadata": {
            "tags": [],
            "needs_background": "light"
          }
        },
        {
          "output_type": "stream",
          "text": [
            "WARNING:tensorflow:The parameters `output_attentions`, `output_hidden_states` and `use_cache` cannot be updated when calling a model.They have to be set to True/False in the config object (i.e.: `config=XConfig.from_pretrained('name', output_attentions=True)`).\n",
            "WARNING:tensorflow:The parameter `return_dict` cannot be set in graph mode and will always be set to `True`.\n",
            "\n",
            "--------------------------------------------------------------------\n",
            "Iteração: 1 Fold: 1 Accuracy: 0.9464285714285714, Mean Accuracy: 0.9464285714285714\n",
            "\n",
            "--------------------------------------------------------------------\n",
            "WARNING:tensorflow:The parameters `output_attentions`, `output_hidden_states` and `use_cache` cannot be updated when calling a model.They have to be set to True/False in the config object (i.e.: `config=XConfig.from_pretrained('name', output_attentions=True)`).\n",
            "WARNING:tensorflow:The parameter `return_dict` cannot be set in graph mode and will always be set to `True`.\n",
            "Epoch 1/10\n",
            "WARNING:tensorflow:The parameters `output_attentions`, `output_hidden_states` and `use_cache` cannot be updated when calling a model.They have to be set to True/False in the config object (i.e.: `config=XConfig.from_pretrained('name', output_attentions=True)`).\n",
            "WARNING:tensorflow:The parameter `return_dict` cannot be set in graph mode and will always be set to `True`.\n",
            "WARNING:tensorflow:The parameters `output_attentions`, `output_hidden_states` and `use_cache` cannot be updated when calling a model.They have to be set to True/False in the config object (i.e.: `config=XConfig.from_pretrained('name', output_attentions=True)`).\n",
            "WARNING:tensorflow:The parameter `return_dict` cannot be set in graph mode and will always be set to `True`.\n",
            "269/269 [==============================] - ETA: 0s - loss: 0.7920 - accuracy: 0.7078WARNING:tensorflow:The parameters `output_attentions`, `output_hidden_states` and `use_cache` cannot be updated when calling a model.They have to be set to True/False in the config object (i.e.: `config=XConfig.from_pretrained('name', output_attentions=True)`).\n",
            "WARNING:tensorflow:The parameter `return_dict` cannot be set in graph mode and will always be set to `True`.\n",
            "269/269 [==============================] - 79s 245ms/step - loss: 0.7911 - accuracy: 0.7082 - val_loss: 0.4280 - val_accuracy: 0.8271\n",
            "Epoch 2/10\n",
            "269/269 [==============================] - 62s 232ms/step - loss: 0.3490 - accuracy: 0.8774 - val_loss: 0.2680 - val_accuracy: 0.9219\n",
            "Epoch 3/10\n",
            "269/269 [==============================] - 62s 232ms/step - loss: 0.2530 - accuracy: 0.9150 - val_loss: 0.2009 - val_accuracy: 0.9424\n",
            "Epoch 4/10\n",
            "269/269 [==============================] - 62s 232ms/step - loss: 0.1960 - accuracy: 0.9320 - val_loss: 0.2040 - val_accuracy: 0.9387\n",
            "Epoch 5/10\n",
            "269/269 [==============================] - 62s 232ms/step - loss: 0.1415 - accuracy: 0.9528 - val_loss: 0.1791 - val_accuracy: 0.9349\n",
            "Epoch 6/10\n",
            "269/269 [==============================] - 63s 233ms/step - loss: 0.1066 - accuracy: 0.9689 - val_loss: 0.2010 - val_accuracy: 0.9349\n",
            "Epoch 7/10\n",
            "269/269 [==============================] - 62s 232ms/step - loss: 0.1008 - accuracy: 0.9695 - val_loss: 0.1712 - val_accuracy: 0.9424\n",
            "Epoch 8/10\n",
            "269/269 [==============================] - 62s 232ms/step - loss: 0.0927 - accuracy: 0.9675 - val_loss: 0.2081 - val_accuracy: 0.9405\n",
            "Epoch 9/10\n",
            "269/269 [==============================] - 62s 232ms/step - loss: 0.0639 - accuracy: 0.9814 - val_loss: 0.1728 - val_accuracy: 0.9442\n",
            "Epoch 10/10\n",
            "269/269 [==============================] - 62s 232ms/step - loss: 0.0619 - accuracy: 0.9858 - val_loss: 0.1833 - val_accuracy: 0.9554\n"
          ],
          "name": "stdout"
        },
        {
          "output_type": "display_data",
          "data": {
            "image/png": "[encoded data removed]",
            "text/plain": [
              "<Figure size 1080x216 with 4 Axes>"
            ]
          },
          "metadata": {
            "tags": [],
            "needs_background": "light"
          }
        },
        {
          "output_type": "stream",
          "text": [
            "WARNING:tensorflow:The parameters `output_attentions`, `output_hidden_states` and `use_cache` cannot be updated when calling a model.They have to be set to True/False in the config object (i.e.: `config=XConfig.from_pretrained('name', output_attentions=True)`).\n",
            "WARNING:tensorflow:The parameter `return_dict` cannot be set in graph mode and will always be set to `True`.\n",
            "\n",
            "--------------------------------------------------------------------\n",
            "Iteração: 1 Fold: 2 Accuracy: 0.9404761904761905, Mean Accuracy: 0.9434523809523809\n",
            "\n",
            "--------------------------------------------------------------------\n"
          ],
          "name": "stdout"
        }
      ]
    },
    {
      "cell_type": "code",
      "metadata": {
        "colab": {
          "base_uri": "https://localhost:8080/",
          "height": 778
        },
        "id": "0MjS-OGPNvmw",
        "scrolled": false,
        "outputId": "d5019ed4-7e35-42cb-c4db-1cccb0e941a6"
      },
      "source": [
        "uf.custom_metrics(mean_of_conf_matrix_arrays, np.unique(y_test))"
      ],
      "execution_count": 22,
      "outputs": [
        {
          "output_type": "stream",
          "text": [
            "                                          Metrics Resume                                          \n",
            "==================================================================================================\n",
            "Class Name          \t Precision\t    Recall\t  F1-Score\t       MCC\t       AUC\n",
            "Design Document     \t      0.98\t      0.89\t      0.93\t      0.93\t      0.95\n",
            "List of Contributors\t       1.0\t       1.0\t       1.0\t      0.99\t       1.0\n",
            "Setup Files         \t       1.0\t       0.8\t      0.89\t      0.89\t       0.9\n",
            "Requirement Document\t      0.89\t      0.97\t      0.93\t      0.91\t      0.97\n",
            "License             \t      0.95\t      0.98\t      0.97\t      0.96\t      0.99\n",
            "Contributors' Guide \t      0.79\t      0.65\t      0.71\t       0.7\t      0.82\n",
            "Release Notes       \t      0.96\t      0.96\t      0.96\t      0.95\t      0.98\n",
            "\n",
            "Micro Average       \t      0.95\t      0.95\t      0.95\t      0.89\t      0.97\n",
            "Macro Average       \t      0.94\t      0.89\t      0.91\t      0.91\t      0.94\n"
          ],
          "name": "stdout"
        },
        {
          "output_type": "display_data",
          "data": {
            "image/png": "[encoded data removed]",
            "text/plain": [
              "<Figure size 576x576 with 2 Axes>"
            ]
          },
          "metadata": {
            "tags": [],
            "needs_background": "light"
          }
        }
      ]
    },
    {
      "cell_type": "markdown",
      "metadata": {
        "id": "8nPXd0xTsQpy"
      },
      "source": [
        "Plot ROC Curve"
      ]
    },
    {
      "cell_type": "code",
      "metadata": {
        "colab": {
          "base_uri": "https://localhost:8080/",
          "height": 349
        },
        "id": "vkFFPsIlqYLR",
        "outputId": "30f69e4e-d749-46be-a703-640741d0e3b2"
      },
      "source": [
        "classes = np.unique(y_test)\n",
        "y_test_array = pd.get_dummies(y_test, drop_first=False).values\n",
        "\n",
        "import matplotlib as mpl\n",
        "mpl.style.use('seaborn')\n",
        "\n",
        "fig, ax = plt.subplots(nrows=1, ncols=2, figsize=(15,5))\n",
        "## Plot roc\n",
        "for i in range(len(classes)):\n",
        "    fpr, tpr, thresholds = metrics.roc_curve(y_test_array[:,i],  \n",
        "                           predicted_prob[:,i])\n",
        "    ax[0].plot(fpr, tpr, lw=3, \n",
        "              label='{0} (area={1:0.2f})'.format(classes[i], \n",
        "                              metrics.auc(fpr, tpr))\n",
        "               )\n",
        "ax[0].plot([0,1], [0,1], color='navy', lw=3, linestyle='--')\n",
        "ax[0].set(xlim=[-0.05,1.0], ylim=[0.0,1.05], \n",
        "          xlabel='False Positive Rate', \n",
        "          ylabel=\"True Positive Rate (Recall)\", \n",
        "          title=\"Receiver operating characteristic\")\n",
        "ax[0].legend(loc=\"lower right\")\n",
        "ax[0].grid(True)\n",
        "    \n",
        "## Plot precision-recall curve\n",
        "for i in range(len(classes)):\n",
        "    precision, recall, thresholds = metrics.precision_recall_curve(\n",
        "                 y_test_array[:,i], predicted_prob[:,i])\n",
        "    ax[1].plot(recall, precision, lw=3, \n",
        "               label='{0} (area={1:0.2f})'.format(classes[i], \n",
        "                                  metrics.auc(recall, precision))\n",
        "              )\n",
        "ax[1].set(xlim=[0.0,1.05], ylim=[0.0,1.05], xlabel='Recall', \n",
        "          ylabel=\"Precision\", title=\"Precision-Recall curve\")\n",
        "ax[1].legend(loc=\"best\")\n",
        "ax[1].grid(True)\n",
        "plt.show()"
      ],
      "execution_count": null,
      "outputs": [
        {
          "output_type": "display_data",
          "data": {
            "image/png": "[encoded data removed]",
            "text/plain": [
              "<Figure size 1080x360 with 2 Axes>"
            ]
          },
          "metadata": {
            "tags": []
          }
        }
      ]
    },
    {
      "cell_type": "markdown",
      "metadata": {
        "id": "Pyo3QnyqNvmw"
      },
      "source": [
        "### BERT with Conventional ML"
      ]
    },
    {
      "cell_type": "code",
      "metadata": {
        "id": "LkWisBmlqYLS"
      },
      "source": [
        "def utils_bert_embedding(txt, tokenizer, nlp, log=False):\n",
        "    idx = tokenizer.encode(txt, add_special_tokens=True, max_length=256, pad_to_max_length=True, \n",
        "                                             return_attention_mask=True, return_token_type_ids=True)\n",
        "    # print(idx)\n",
        "    if log is True:\n",
        "        print(\"tokens:\", tokenizer.convert_ids_to_tokens(idx))\n",
        "        print(\"ids   :\", tokenizer.encode(txt))\n",
        "    idx = np.array(idx)[None,:]\n",
        "    embedding = nlp(idx)\n",
        "    X = np.array(embedding[0][0][1:-1])\n",
        "    return X\n",
        "'''\n",
        "Creates a feature matrix (num_docs x vector_size)\n",
        ":parameter\n",
        "    :param x: string or list\n",
        "    :param tokenizer: transformers tokenizer\n",
        "    :param nlp: transformers bert\n",
        "    :param log: bool - print tokens\n",
        ":return\n",
        "    vector or matrix \n",
        "'''\n",
        "def embedding_bert(x, tokenizer=None, nlp=None, log=False):\n",
        "    tokenizer = transformers.BertTokenizer.from_pretrained('bert-base-uncased') if tokenizer is None else tokenizer\n",
        "    nlp = transformers.TFBertModel.from_pretrained('bert-base-uncased') if nlp is None else nlp\n",
        "    \n",
        "    ## single word --> vec (size,)\n",
        "    if (type(x) is str) and (len(x.split()) == 1):\n",
        "        X = utils_bert_embedding(x, tokenizer, nlp, log).reshape(-1)\n",
        "    \n",
        "    ## list of words --> matrix (n, size)\n",
        "    elif (type(x) is list) and (type(x[0]) is str) and (len(x[0].split()) == 1):\n",
        "        X = utils_bert_embedding(x, tokenizer, nlp, log)\n",
        "    \n",
        "    ## list of lists of words --> matrix (n mean vectors, size)\n",
        "    elif (type(x) is list) and (type(x[0]) is list):\n",
        "        lst_mean_vecs = [utils_bert_embedding(lst, tokenizer, nlp, log).mean(0) for lst in x]\n",
        "        X = np.array(lst_mean_vecs)\n",
        "    \n",
        "    ## single text --> matrix (n words, size)\n",
        "    elif (type(x) is str) and (len(x.split()) > 1):\n",
        "        X = utils_bert_embedding(x, tokenizer, nlp, log)\n",
        "        \n",
        "    ## list of texts --> matrix (n mean vectors, size)\n",
        "    else:\n",
        "        lst_mean_vecs = [utils_bert_embedding(txt, tokenizer, nlp, log).mean(0) for txt in x]\n",
        "        X = np.array(lst_mean_vecs)\n",
        "    return X"
      ],
      "execution_count": 26,
      "outputs": []
    },
    {
      "cell_type": "code",
      "metadata": {
        "id": "blU8hZ_3qYLS"
      },
      "source": [
        "# Use for mNB\n",
        "from sklearn.preprocessing import MinMaxScaler, normalize\n",
        "def normalizer(X):\n",
        "    scaler = MinMaxScaler()\n",
        "    scaled_X = scaler.fit_transform(X)\n",
        "    normalized_X = normalize(scaled_X, norm='max', axis=0, copy=True)\n",
        "    return(normalized_X)"
      ],
      "execution_count": 27,
      "outputs": []
    },
    {
      "cell_type": "markdown",
      "metadata": {
        "id": "XRbxAyqrqYLS"
      },
      "source": [
        "#### Classifier"
      ]
    },
    {
      "cell_type": "code",
      "metadata": {
        "id": "sOHIlAXFqYLS"
      },
      "source": [
        "# Model Design\n",
        "clf1 = svm.SVC(gamma='scale')\n",
        "clf2 = RandomForestClassifier(n_estimators=500, random_state=1)\n",
        "clf3 = MultinomialNB(alpha=0.01)\n",
        "clf4 = DecisionTreeClassifier(random_state=0, max_depth=500)\n",
        "\n",
        "svc = SVC(probability=True, kernel='linear')\n",
        "ada = AdaBoostClassifier(n_estimators=50, base_estimator=svc,learning_rate=1)\n",
        "ada2 = AdaBoostClassifier(\n",
        "    DecisionTreeClassifier(max_depth=2),\n",
        "    n_estimators=600,\n",
        "    learning_rate=1.5,\n",
        "    algorithm=\"SAMME\")\n",
        "ada3 = AdaBoostClassifier()\n",
        "rf = RandomForestClassifier(max_depth=100, n_estimators=100, max_features=10)\n",
        "# nb = naive_bayes.MultinomialNB(alpha=0.01)\n",
        "nb = naive_bayes.MultinomialNB(alpha=0.0)\n",
        "lr = LogisticRegression(random_state=0, solver='lbfgs', multi_class='multinomial', class_weight='balanced', C=1500)\n",
        "dt = DecisionTreeClassifier(max_depth=500)"
      ],
      "execution_count": 28,
      "outputs": []
    },
    {
      "cell_type": "code",
      "metadata": {
        "colab": {
          "base_uri": "https://localhost:8080/"
        },
        "id": "pipETD3zqYLS",
        "outputId": "0dec333c-ab2b-482d-9a85-73b8eee6d8ec"
      },
      "source": [
        "# Disable bert warnings\n",
        "import logging\n",
        "logging.getLogger(\"transformers.tokenization_utils\").setLevel(logging.ERROR)\n",
        "from tqdm import tqdm\n",
        "accrs = []\n",
        "preds = []\n",
        "conf_matrix_list_of_arrays = []\n",
        "fold = 0\n",
        "k=10\n",
        "\n",
        "sss = StratifiedShuffleSplit(n_splits=k, test_size=0.2, random_state=42)\n",
        "\n",
        "for train_index, test_index in sss.split(X, y):\n",
        "    X_train, X_test = X[train_index], X[test_index]\n",
        "    y_train, y_test = y[train_index], y[test_index]\n",
        "\n",
        "    fold +=1\n",
        "\n",
        "    X_train = embedding_bert(X_train,tokenizer, transformer_model, log=False)\n",
        "    # X_train = normalizer(X_train) # Use for mNB\n",
        "    X_test = embedding_bert(X_test,tokenizer, transformer_model, log=False)\n",
        "    # X_test = normalizer(X_test) # Use for mNB\n",
        "    \n",
        "    dic_y_mapping = {n:label for n,label in enumerate(np.unique(y_train))}\n",
        "\n",
        "    # train classifier\n",
        "    model = dt.fit(X_train, y_train)\n",
        "    \n",
        "    # test\n",
        "    predicted_prob = model.predict_proba(X_test)\n",
        "    predicted = [dic_y_mapping[np.argmax(pred)] for pred in predicted_prob]\n",
        "    \n",
        "    # Validade Test Set\n",
        "    accr = metrics.accuracy_score(y_test, predicted)\n",
        "\n",
        "    conf_matrix = confusion_matrix(y_test, predicted)\n",
        "    conf_matrix_list_of_arrays.append(conf_matrix)\n",
        "\n",
        "    accrs.append(accr)\n",
        "    print('\\n--------------------------------------------------------------------')\n",
        "    print(f'Fold: {fold} Accuracy: {accr}, Mean Accuracy: {sum(accrs)/fold}')\n",
        "    print('--------------------------------------------------------------------')\n",
        "    \n",
        "\n",
        "# means for Confusion Matrix\n",
        "mean_of_conf_matrix_arrays = np.mean(conf_matrix_list_of_arrays, axis=0)"
      ],
      "execution_count": 38,
      "outputs": [
        {
          "output_type": "stream",
          "text": [
            "\n",
            "--------------------------------------------------------------------\n",
            "Fold: 1 Accuracy: 0.8928571428571429, Mean Accuracy: 0.8928571428571429\n",
            "--------------------------------------------------------------------\n",
            "\n",
            "--------------------------------------------------------------------\n",
            "Fold: 2 Accuracy: 0.9107142857142857, Mean Accuracy: 0.9017857142857143\n",
            "--------------------------------------------------------------------\n",
            "\n",
            "--------------------------------------------------------------------\n",
            "Fold: 3 Accuracy: 0.9047619047619048, Mean Accuracy: 0.9027777777777778\n",
            "--------------------------------------------------------------------\n",
            "\n",
            "--------------------------------------------------------------------\n",
            "Fold: 4 Accuracy: 0.9181547619047619, Mean Accuracy: 0.9066220238095238\n",
            "--------------------------------------------------------------------\n",
            "\n",
            "--------------------------------------------------------------------\n",
            "Fold: 5 Accuracy: 0.8809523809523809, Mean Accuracy: 0.9014880952380953\n",
            "--------------------------------------------------------------------\n",
            "\n",
            "--------------------------------------------------------------------\n",
            "Fold: 6 Accuracy: 0.875, Mean Accuracy: 0.8970734126984127\n",
            "--------------------------------------------------------------------\n",
            "\n",
            "--------------------------------------------------------------------\n",
            "Fold: 7 Accuracy: 0.8973214285714286, Mean Accuracy: 0.897108843537415\n",
            "--------------------------------------------------------------------\n",
            "\n",
            "--------------------------------------------------------------------\n",
            "Fold: 8 Accuracy: 0.9032738095238095, Mean Accuracy: 0.8978794642857143\n",
            "--------------------------------------------------------------------\n",
            "\n",
            "--------------------------------------------------------------------\n",
            "Fold: 9 Accuracy: 0.8898809523809523, Mean Accuracy: 0.8969907407407407\n",
            "--------------------------------------------------------------------\n",
            "\n",
            "--------------------------------------------------------------------\n",
            "Fold: 10 Accuracy: 0.8958333333333334, Mean Accuracy: 0.896875\n",
            "--------------------------------------------------------------------\n"
          ],
          "name": "stdout"
        }
      ]
    },
    {
      "cell_type": "markdown",
      "metadata": {
        "id": "MQICTM2kqYLT"
      },
      "source": [
        "### Plot Metrics Resume and Confusion Matrix"
      ]
    },
    {
      "cell_type": "code",
      "metadata": {
        "colab": {
          "base_uri": "https://localhost:8080/",
          "height": 778
        },
        "id": "z1bvGD9AqYLT",
        "outputId": "b3f77394-7a7e-49b7-fcd9-f9af4e14ea40"
      },
      "source": [
        "uf.custom_metrics(mean_of_conf_matrix_arrays, np.unique(y_test))"
      ],
      "execution_count": 39,
      "outputs": [
        {
          "output_type": "stream",
          "text": [
            "                                          Metrics Resume                                          \n",
            "==================================================================================================\n",
            "Class Name          \t Precision\t    Recall\t  F1-Score\t       MCC\t       AUC\n",
            "Design Document     \t      0.88\t      0.93\t       0.9\t      0.89\t      0.96\n",
            "List of Contributors\t      0.98\t      0.99\t      0.99\t      0.98\t      0.99\n",
            "Setup Files         \t      0.71\t      0.62\t      0.67\t      0.66\t      0.81\n",
            "Requirement Document\t      0.85\t      0.92\t      0.89\t      0.85\t      0.94\n",
            "License             \t      0.98\t      0.95\t      0.97\t      0.96\t      0.97\n",
            "Contributors' Guide \t      0.55\t      0.49\t      0.52\t      0.49\t      0.73\n",
            "Release Notes       \t      0.91\t      0.84\t      0.88\t      0.85\t      0.91\n",
            "\n",
            "Micro Average       \t       0.9\t       0.9\t       0.9\t      0.66\t      0.94\n",
            "Macro Average       \t      0.84\t      0.82\t      0.83\t      0.81\t       0.9\n"
          ],
          "name": "stdout"
        },
        {
          "output_type": "display_data",
          "data": {
            "image/png": "[encoded data removed]",
            "text/plain": [
              "<Figure size 576x576 with 2 Axes>"
            ]
          },
          "metadata": {
            "tags": [],
            "needs_background": "light"
          }
        }
      ]
    },
    {
      "cell_type": "markdown",
      "metadata": {
        "id": "wqf6gXr_qYLT"
      },
      "source": [
        "### Voting Classifier"
      ]
    },
    {
      "cell_type": "code",
      "metadata": {
        "colab": {
          "base_uri": "https://localhost:8080/"
        },
        "id": "AZNiTWyiqYLT",
        "outputId": "c02c5aea-1a74-4753-a711-d5a9e87d1f71"
      },
      "source": [
        "accrs = []\n",
        "conf_matrix_list_of_arrays = []\n",
        "kfolds=10\n",
        "fold = 0\n",
        "sss = StratifiedShuffleSplit(n_splits=kfolds, test_size=0.2, random_state=42)\n",
        "\n",
        "for train_index, test_index in sss.split(X, y):\n",
        "    X_train, X_test = X[train_index], X[test_index]\n",
        "    y_train, y_test = y[train_index], y[test_index]\n",
        "    \n",
        "    fold +=1\n",
        "\n",
        "    X_train = embedding_bert(X_train,tokenizer, transformer_model, log=False)\n",
        "    X_train = normalizer(X_train) # Use for mNB\n",
        "    X_test = embedding_bert(X_test,tokenizer, transformer_model, log=False)\n",
        "    X_test = normalizer(X_test) # Use for mNB\n",
        "    \n",
        "    dic_y_mapping = {n:label for n,label in enumerate(np.unique(y_train))}\n",
        "    \n",
        "    model = VotingClassifier(estimators=[\n",
        "        ('svm', clf1),('rf', clf2), ('mnb', clf3), ('tree', clf4)], voting='hard',weights=[1,1,2,1])\n",
        "    model = model.fit(X_train, y_train)\n",
        "    \n",
        "    predicted = model.predict(X_test)\n",
        "    accr = metrics.accuracy_score(y_test, predicted)\n",
        "    #\n",
        "    conf_matrix = confusion_matrix(y_test, predicted)\n",
        "    conf_matrix_list_of_arrays .append(conf_matrix)\n",
        "    #    \n",
        "    accrs.append(accr)\n",
        "#     print(metrics.classification_report(y_test, predicted))\n",
        "\n",
        "    print(f'Fold: {fold} Accuracy: {accr}, Mean Accuracy: {sum(accrs)/fold}')\n",
        "\n",
        "# means for Confusion Matrix\n",
        "mean_of_conf_matrix_arrays = np.mean(conf_matrix_list_of_arrays, axis=0)"
      ],
      "execution_count": 40,
      "outputs": [
        {
          "output_type": "stream",
          "text": [
            "Fold: 1 Accuracy: 0.90625, Mean Accuracy: 0.90625\n",
            "Fold: 2 Accuracy: 0.9226190476190477, Mean Accuracy: 0.9144345238095238\n",
            "Fold: 3 Accuracy: 0.9151785714285714, Mean Accuracy: 0.9146825396825397\n",
            "Fold: 4 Accuracy: 0.9151785714285714, Mean Accuracy: 0.9148065476190477\n",
            "Fold: 5 Accuracy: 0.8988095238095238, Mean Accuracy: 0.9116071428571428\n",
            "Fold: 6 Accuracy: 0.90625, Mean Accuracy: 0.9107142857142857\n",
            "Fold: 7 Accuracy: 0.8958333333333334, Mean Accuracy: 0.9085884353741497\n",
            "Fold: 8 Accuracy: 0.9315476190476191, Mean Accuracy: 0.9114583333333333\n",
            "Fold: 9 Accuracy: 0.90625, Mean Accuracy: 0.9108796296296295\n",
            "Fold: 10 Accuracy: 0.9032738095238095, Mean Accuracy: 0.9101190476190476\n"
          ],
          "name": "stdout"
        }
      ]
    },
    {
      "cell_type": "markdown",
      "metadata": {
        "id": "vUBAOAZxqYLT"
      },
      "source": [
        "### Plot Metrics Resume and Confusion Matrix"
      ]
    },
    {
      "cell_type": "code",
      "metadata": {
        "colab": {
          "base_uri": "https://localhost:8080/",
          "height": 778
        },
        "id": "41JXuAZ7qYLT",
        "outputId": "c185ee14-b064-40aa-c213-a727e03f334e"
      },
      "source": [
        "uf.custom_metrics(mean_of_conf_matrix_arrays, np.unique(y_test))"
      ],
      "execution_count": 42,
      "outputs": [
        {
          "output_type": "stream",
          "text": [
            "                                          Metrics Resume                                          \n",
            "==================================================================================================\n",
            "Class Name          \t Precision\t    Recall\t  F1-Score\t       MCC\t       AUC\n",
            "Design Document     \t      0.92\t      0.87\t       0.9\t      0.89\t      0.93\n",
            "List of Contributors\t      0.99\t      0.97\t      0.98\t      0.97\t      0.99\n",
            "Setup Files         \t      0.71\t      0.75\t      0.73\t      0.72\t      0.87\n",
            "Requirement Document\t      0.82\t      0.94\t      0.87\t      0.84\t      0.94\n",
            "License             \t      0.94\t       1.0\t      0.97\t      0.97\t       1.0\n",
            "Contributors' Guide \t      0.84\t      0.48\t      0.61\t      0.62\t      0.74\n",
            "Release Notes       \t      0.94\t      0.94\t      0.94\t      0.92\t      0.96\n",
            "\n",
            "Micro Average       \t      0.92\t      0.92\t      0.92\t      0.72\t      0.95\n",
            "Macro Average       \t      0.88\t      0.85\t      0.86\t      0.85\t      0.92\n"
          ],
          "name": "stdout"
        },
        {
          "output_type": "display_data",
          "data": {
            "image/png": "[encoded data removed]",
            "text/plain": [
              "<Figure size 576x576 with 2 Axes>"
            ]
          },
          "metadata": {
            "tags": [],
            "needs_background": "light"
          }
        }
      ]
    }
  ]
}